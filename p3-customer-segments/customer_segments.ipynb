{
 "cells": [
  {
   "cell_type": "markdown",
   "metadata": {},
   "source": [
    "# Creating Customer Segments"
   ]
  },
  {
   "cell_type": "markdown",
   "metadata": {},
   "source": [
    "## Edderic Ugaddan"
   ]
  },
  {
   "cell_type": "markdown",
   "metadata": {},
   "source": [
    "In this project you, will analyze a dataset containing annual spending amounts for internal structure, to understand the variation in the different types of customers that a wholesale distributor interacts with.\n",
    "\n",
    "Instructions:\n",
    "\n",
    "- Run each code block below by pressing **Shift+Enter**, making sure to implement any steps marked with a TODO.\n",
    "- Answer each question in the space provided by editing the blocks labeled \"Answer:\".\n",
    "- When you are done, submit the completed notebook (.ipynb) with all code blocks executed, as well as a .pdf version (File > Download as)."
   ]
  },
  {
   "cell_type": "code",
   "execution_count": 183,
   "metadata": {
    "collapsed": false
   },
   "outputs": [
    {
     "name": "stdout",
     "output_type": "stream",
     "text": [
      "Dataset has 440 rows, 6 columns\n",
      "   Fresh  Milk  Grocery  Frozen  Detergents_Paper  Delicatessen\n",
      "0  12669  9656     7561     214              2674          1338\n",
      "1   7057  9810     9568    1762              3293          1776\n",
      "2   6353  8808     7684    2405              3516          7844\n",
      "3  13265  1196     4221    6404               507          1788\n",
      "4  22615  5410     7198    3915              1777          5185\n"
     ]
    }
   ],
   "source": [
    "# Import libraries: NumPy, pandas, matplotlib\n",
    "import numpy as np\n",
    "import pandas as pd\n",
    "import matplotlib.pyplot as plt\n",
    "from ggplot import *\n",
    "\n",
    "# Tell iPython to include plots inline in the notebook\n",
    "%matplotlib inline\n",
    "\n",
    "# Read dataset\n",
    "data = pd.read_csv(\"wholesale-customers.csv\")\n",
    "print \"Dataset has {} rows, {} columns\".format(*data.shape)\n",
    "print data.head()  # print the first 5 rows"
   ]
  },
  {
   "cell_type": "markdown",
   "metadata": {},
   "source": [
    "##Feature Transformation"
   ]
  },
  {
   "cell_type": "markdown",
   "metadata": {},
   "source": [
    "**1)** In this section you will be using PCA and ICA to start to understand the structure of the data. Before doing any computations, what do you think will show up in your computations? List one or two ideas for what might show up as the first PCA dimensions, or what type of vectors will show up as ICA dimensions."
   ]
  },
  {
   "cell_type": "markdown",
   "metadata": {},
   "source": [
    "Answer: \n",
    "\n",
    "Right now, I have a dataset of 440 rows and 6 columns (Fresh, Milk, Grocery, etc.) When I perform PCA, I expect the dataset to be transformed into another 440x6 matrix, where each customer's wholesale delivery is no longer represented explicitly in terms of the original columns (Fresh, Milk, Grocery, etc.) but as Principal Components (i.e. components that explain the variances in the data the best). On the other hand, when I perform ICA on the same dataset, I expect to have some sort of notion of where the orders might have come from (i.e. How many milk orders came from small businesses as opposed to big businesses?). Judging from the task, I expect two vectors representing the orders of small businesses and big businesses over time."
   ]
  },
  {
   "cell_type": "markdown",
   "metadata": {},
   "source": [
    "###PCA"
   ]
  },
  {
   "cell_type": "code",
   "execution_count": 184,
   "metadata": {
    "collapsed": false
   },
   "outputs": [
    {
     "name": "stdout",
     "output_type": "stream",
     "text": [
      "[[-0.97653685 -0.12118407 -0.06154039 -0.15236462  0.00705417 -0.06810471]\n",
      " [-0.11061386  0.51580216  0.76460638 -0.01872345  0.36535076  0.05707921]]\n",
      "[ 0.45961362  0.40517227]\n"
     ]
    }
   ],
   "source": [
    "# TODO: Apply PCA with the same number of dimensions as variables in the dataset\n",
    "from sklearn.decomposition import PCA\n",
    "pca = PCA(n_components=2)\n",
    "pca.fit(data)\n",
    "\n",
    "# Print the components and the amount of variance in the data contained in each dimension\n",
    "print pca.components_\n",
    "print pca.explained_variance_ratio_"
   ]
  },
  {
   "cell_type": "markdown",
   "metadata": {},
   "source": [
    "**2)** How quickly does the variance drop off by dimension? If you were to use PCA on this dataset, how many dimensions would you choose for your analysis? Why?"
   ]
  },
  {
   "cell_type": "markdown",
   "metadata": {
    "collapsed": true
   },
   "source": [
    "Answer: \n",
    "\n",
    "Variance drops off relatively slowly from the 1st principal component to the 2nd (~5%). However, variance drops significantly from the 2nd principal component to the 3rd. I would just use the first two principal components since they account for 0.45961362 + 0.40517227 = 0.86478589, which is quite a significant amount of the variation. Plus, it would be easier to visualize anyway, since it's easy to keep track of two things over time than three things over time."
   ]
  },
  {
   "cell_type": "markdown",
   "metadata": {},
   "source": [
    "**3)** What do the dimensions seem to represent? How can you use this information?"
   ]
  },
  {
   "cell_type": "markdown",
   "metadata": {
    "collapsed": true
   },
   "source": [
    "Answer: \n",
    "\n",
    "The first two dimensions seem to correspond strongly with annual customer spending on \"fresh\" and \"grocery\" items. By comparing the original graphs to the graphs of PCA for the first and last 20 customers, it seems that the first principal component is negatively correlated with annual customer spending on freshness (see below). We observe that peaks in \"fresh\" annual spending per customer correspond to troughs in terms of the first principal component, and similarly, the troughs in \"fresh\" annual spending per correspond to peaks in the latter. On the other hand, the second principal component seems to follow the general trend of annual spending on \"grocery\" items.  \n",
    "\n",
    "This information makes sense. When we look at README, we find out that annual spending on fresh items has the biggest standard deviation (12,647.239) and that annual spending per customer on grocery items has the second biggest standard deviation (9,503.163). PCA finds vectors to project onto so that variances of the data on them are maximized. Standard deviation is just the square root of the variance, so it follows that annual spending on \"fresh\" and \"grocery\" products are intimately related to the first and second principal components.\n",
    "\n",
    "What this tells me is that if I really want the business to pay attention to only a couple of types of products, I would recommend them to focus on products that belong to the \"fresh\" and \"grocery\" labels. Together, they seem to capture much of the information about the whole dataset."
   ]
  },
  {
   "cell_type": "code",
   "execution_count": 185,
   "metadata": {
    "collapsed": false
   },
   "outputs": [
    {
     "data": {
      "text/plain": [
       "<matplotlib.axes._subplots.AxesSubplot at 0x11d38fb50>"
      ]
     },
     "execution_count": 185,
     "metadata": {},
     "output_type": "execute_result"
    },
    {
     "data": {
      "image/png": "[encoded data removed]",
      "text/plain": [
       "<matplotlib.figure.Figure at 0x11c367590>"
      ]
     },
     "metadata": {},
     "output_type": "display_data"
    }
   ],
   "source": [
    "data[['Fresh', 'Grocery']].head(20).plot()"
   ]
  },
  {
   "cell_type": "code",
   "execution_count": 186,
   "metadata": {
    "collapsed": false
   },
   "outputs": [
    {
     "data": {
      "text/plain": [
       "<matplotlib.axes._subplots.AxesSubplot at 0x11d48fe90>"
      ]
     },
     "execution_count": 186,
     "metadata": {},
     "output_type": "execute_result"
    },
    {
     "data": {
      "image/png": "[encoded data removed]",
      "text/plain": [
       "<matplotlib.figure.Figure at 0x11d538a50>"
      ]
     },
     "metadata": {},
     "output_type": "display_data"
    }
   ],
   "source": [
    "pd.DataFrame(pca.transform(data)).head(20).plot()"
   ]
  },
  {
   "cell_type": "code",
   "execution_count": 187,
   "metadata": {
    "collapsed": false
   },
   "outputs": [
    {
     "data": {
      "text/plain": [
       "<matplotlib.axes._subplots.AxesSubplot at 0x11d57a350>"
      ]
     },
     "execution_count": 187,
     "metadata": {},
     "output_type": "execute_result"
    },
    {
     "data": {
      "image/png": "[encoded data removed]",
      "text/plain": [
       "<matplotlib.figure.Figure at 0x1219d1990>"
      ]
     },
     "metadata": {},
     "output_type": "display_data"
    }
   ],
   "source": [
    "data[['Fresh', 'Grocery']].tail(20).plot()"
   ]
  },
  {
   "cell_type": "code",
   "execution_count": 188,
   "metadata": {
    "collapsed": false
   },
   "outputs": [
    {
     "data": {
      "text/plain": [
       "<matplotlib.axes._subplots.AxesSubplot at 0x121a1ab90>"
      ]
     },
     "execution_count": 188,
     "metadata": {},
     "output_type": "execute_result"
    },
    {
     "data": {
      "image/png": "[encoded data removed]",
      "text/plain": [
       "<matplotlib.figure.Figure at 0x121b37310>"
      ]
     },
     "metadata": {},
     "output_type": "display_data"
    }
   ],
   "source": [
    "pd.DataFrame(pca.transform(data)).tail(20).plot()"
   ]
  },
  {
   "cell_type": "markdown",
   "metadata": {},
   "source": [
    "###ICA"
   ]
  },
  {
   "cell_type": "code",
   "execution_count": 189,
   "metadata": {
    "collapsed": false,
    "scrolled": true
   },
   "outputs": [
    {
     "data": {
      "text/html": [
       "<div>\n",
       "<table border=\"1\" class=\"dataframe\">\n",
       "  <thead>\n",
       "    <tr style=\"text-align: right;\">\n",
       "      <th></th>\n",
       "      <th>Delicatessen</th>\n",
       "      <th>Detergents_Paper</th>\n",
       "      <th>Fresh</th>\n",
       "      <th>Frozen</th>\n",
       "      <th>Grocery</th>\n",
       "      <th>Milk</th>\n",
       "    </tr>\n",
       "  </thead>\n",
       "  <tbody>\n",
       "    <tr>\n",
       "      <th>0</th>\n",
       "      <td>1524.87</td>\n",
       "      <td>2881.49</td>\n",
       "      <td>12000.3</td>\n",
       "      <td>3071.93</td>\n",
       "      <td>7951.28</td>\n",
       "      <td>5796.27</td>\n",
       "    </tr>\n",
       "  </tbody>\n",
       "</table>\n",
       "</div>"
      ],
      "text/plain": [
       "   Delicatessen  Detergents_Paper    Fresh   Frozen  Grocery     Milk\n",
       "0       1524.87           2881.49  12000.3  3071.93  7951.28  5796.27"
      ]
     },
     "execution_count": 189,
     "metadata": {},
     "output_type": "execute_result"
    }
   ],
   "source": [
    "means = pd.DataFrame({'Fresh': [12000.30], \n",
    "                      'Milk': [5796.27], \n",
    "                      'Grocery': [7951.28], \n",
    "                      'Frozen': [3071.93], \n",
    "                      'Detergents_Paper': [2881.49], \n",
    "                      'Delicatessen': [1524.87]})\n",
    "\n",
    "means"
   ]
  },
  {
   "cell_type": "code",
   "execution_count": 190,
   "metadata": {
    "collapsed": false,
    "scrolled": true
   },
   "outputs": [
    {
     "data": {
      "text/plain": [
       "['Fresh', 'Milk', 'Grocery', 'Frozen', 'Detergents_Paper', 'Delicatessen']"
      ]
     },
     "execution_count": 190,
     "metadata": {},
     "output_type": "execute_result"
    }
   ],
   "source": [
    "columns = ['Fresh','Milk','Grocery','Frozen','Detergents_Paper','Delicatessen']\n",
    "columns"
   ]
  },
  {
   "cell_type": "code",
   "execution_count": 191,
   "metadata": {
    "collapsed": false,
    "scrolled": true
   },
   "outputs": [
    {
     "data": {
      "text/html": [
       "<div>\n",
       "<table border=\"1\" class=\"dataframe\">\n",
       "  <thead>\n",
       "    <tr style=\"text-align: right;\">\n",
       "      <th></th>\n",
       "      <th>Fresh</th>\n",
       "      <th>Milk</th>\n",
       "      <th>Grocery</th>\n",
       "      <th>Frozen</th>\n",
       "      <th>Detergents_Paper</th>\n",
       "      <th>Delicatessen</th>\n",
       "    </tr>\n",
       "  </thead>\n",
       "  <tbody>\n",
       "    <tr>\n",
       "      <th>0</th>\n",
       "      <td>668.7</td>\n",
       "      <td>3859.73</td>\n",
       "      <td>-390.28</td>\n",
       "      <td>-2857.93</td>\n",
       "      <td>-207.49</td>\n",
       "      <td>-186.87</td>\n",
       "    </tr>\n",
       "    <tr>\n",
       "      <th>1</th>\n",
       "      <td>-4943.3</td>\n",
       "      <td>4013.73</td>\n",
       "      <td>1616.72</td>\n",
       "      <td>-1309.93</td>\n",
       "      <td>411.51</td>\n",
       "      <td>251.13</td>\n",
       "    </tr>\n",
       "    <tr>\n",
       "      <th>2</th>\n",
       "      <td>-5647.3</td>\n",
       "      <td>3011.73</td>\n",
       "      <td>-267.28</td>\n",
       "      <td>-666.93</td>\n",
       "      <td>634.51</td>\n",
       "      <td>6319.13</td>\n",
       "    </tr>\n",
       "    <tr>\n",
       "      <th>3</th>\n",
       "      <td>1264.7</td>\n",
       "      <td>-4600.27</td>\n",
       "      <td>-3730.28</td>\n",
       "      <td>3332.07</td>\n",
       "      <td>-2374.49</td>\n",
       "      <td>263.13</td>\n",
       "    </tr>\n",
       "    <tr>\n",
       "      <th>4</th>\n",
       "      <td>10614.7</td>\n",
       "      <td>-386.27</td>\n",
       "      <td>-753.28</td>\n",
       "      <td>843.07</td>\n",
       "      <td>-1104.49</td>\n",
       "      <td>3660.13</td>\n",
       "    </tr>\n",
       "    <tr>\n",
       "      <th>5</th>\n",
       "      <td>-2587.3</td>\n",
       "      <td>2462.73</td>\n",
       "      <td>-2825.28</td>\n",
       "      <td>-2405.93</td>\n",
       "      <td>-1086.49</td>\n",
       "      <td>-73.87</td>\n",
       "    </tr>\n",
       "    <tr>\n",
       "      <th>6</th>\n",
       "      <td>125.7</td>\n",
       "      <td>-2597.27</td>\n",
       "      <td>-976.28</td>\n",
       "      <td>-2591.93</td>\n",
       "      <td>258.51</td>\n",
       "      <td>-979.87</td>\n",
       "    </tr>\n",
       "    <tr>\n",
       "      <th>7</th>\n",
       "      <td>-4421.3</td>\n",
       "      <td>-840.27</td>\n",
       "      <td>1474.72</td>\n",
       "      <td>-1402.93</td>\n",
       "      <td>439.51</td>\n",
       "      <td>1041.13</td>\n",
       "    </tr>\n",
       "    <tr>\n",
       "      <th>8</th>\n",
       "      <td>-6037.3</td>\n",
       "      <td>-2148.27</td>\n",
       "      <td>-1759.28</td>\n",
       "      <td>-2646.93</td>\n",
       "      <td>-1165.49</td>\n",
       "      <td>-774.87</td>\n",
       "    </tr>\n",
       "    <tr>\n",
       "      <th>9</th>\n",
       "      <td>-5994.3</td>\n",
       "      <td>5296.73</td>\n",
       "      <td>10929.72</td>\n",
       "      <td>-1912.93</td>\n",
       "      <td>4543.51</td>\n",
       "      <td>573.13</td>\n",
       "    </tr>\n",
       "    <tr>\n",
       "      <th>10</th>\n",
       "      <td>-8634.3</td>\n",
       "      <td>-393.27</td>\n",
       "      <td>5022.72</td>\n",
       "      <td>1328.07</td>\n",
       "      <td>3095.51</td>\n",
       "      <td>219.13</td>\n",
       "    </tr>\n",
       "    <tr>\n",
       "      <th>11</th>\n",
       "      <td>1145.7</td>\n",
       "      <td>-4672.27</td>\n",
       "      <td>-3428.28</td>\n",
       "      <td>-1651.93</td>\n",
       "      <td>-2332.49</td>\n",
       "      <td>-1027.87</td>\n",
       "    </tr>\n",
       "    <tr>\n",
       "      <th>12</th>\n",
       "      <td>19713.7</td>\n",
       "      <td>6522.73</td>\n",
       "      <td>3805.72</td>\n",
       "      <td>-2784.93</td>\n",
       "      <td>999.51</td>\n",
       "      <td>1406.13</td>\n",
       "    </tr>\n",
       "    <tr>\n",
       "      <th>13</th>\n",
       "      <td>9216.7</td>\n",
       "      <td>411.73</td>\n",
       "      <td>7030.72</td>\n",
       "      <td>23.07</td>\n",
       "      <td>3825.51</td>\n",
       "      <td>-922.87</td>\n",
       "    </tr>\n",
       "    <tr>\n",
       "      <th>14</th>\n",
       "      <td>12652.7</td>\n",
       "      <td>3668.73</td>\n",
       "      <td>4139.72</td>\n",
       "      <td>-2777.93</td>\n",
       "      <td>2176.51</td>\n",
       "      <td>643.13</td>\n",
       "    </tr>\n",
       "    <tr>\n",
       "      <th>15</th>\n",
       "      <td>-1747.3</td>\n",
       "      <td>-4682.27</td>\n",
       "      <td>-4130.28</td>\n",
       "      <td>-2674.93</td>\n",
       "      <td>-1917.49</td>\n",
       "      <td>-1112.87</td>\n",
       "    </tr>\n",
       "    <tr>\n",
       "      <th>16</th>\n",
       "      <td>-10980.3</td>\n",
       "      <td>3019.73</td>\n",
       "      <td>4169.72</td>\n",
       "      <td>-2937.93</td>\n",
       "      <td>1626.51</td>\n",
       "      <td>-444.87</td>\n",
       "    </tr>\n",
       "    <tr>\n",
       "      <th>17</th>\n",
       "      <td>-6124.3</td>\n",
       "      <td>360.73</td>\n",
       "      <td>-5018.28</td>\n",
       "      <td>-2232.93</td>\n",
       "      <td>-2511.49</td>\n",
       "      <td>2953.13</td>\n",
       "    </tr>\n",
       "    <tr>\n",
       "      <th>18</th>\n",
       "      <td>6600.7</td>\n",
       "      <td>530.73</td>\n",
       "      <td>2147.72</td>\n",
       "      <td>-866.93</td>\n",
       "      <td>-114.49</td>\n",
       "      <td>1656.13</td>\n",
       "    </tr>\n",
       "    <tr>\n",
       "      <th>19</th>\n",
       "      <td>-4220.3</td>\n",
       "      <td>-3301.27</td>\n",
       "      <td>1512.72</td>\n",
       "      <td>-2402.93</td>\n",
       "      <td>-363.49</td>\n",
       "      <td>-1023.87</td>\n",
       "    </tr>\n",
       "    <tr>\n",
       "      <th>20</th>\n",
       "      <td>5545.7</td>\n",
       "      <td>-1277.27</td>\n",
       "      <td>-3349.28</td>\n",
       "      <td>-2005.93</td>\n",
       "      <td>-622.49</td>\n",
       "      <td>599.13</td>\n",
       "    </tr>\n",
       "    <tr>\n",
       "      <th>21</th>\n",
       "      <td>-6433.3</td>\n",
       "      <td>-4925.27</td>\n",
       "      <td>-5941.28</td>\n",
       "      <td>311.07</td>\n",
       "      <td>-2506.49</td>\n",
       "      <td>-955.87</td>\n",
       "    </tr>\n",
       "    <tr>\n",
       "      <th>22</th>\n",
       "      <td>19275.7</td>\n",
       "      <td>-3879.27</td>\n",
       "      <td>-3482.28</td>\n",
       "      <td>6336.07</td>\n",
       "      <td>-500.49</td>\n",
       "      <td>2809.13</td>\n",
       "    </tr>\n",
       "    <tr>\n",
       "      <th>23</th>\n",
       "      <td>14372.7</td>\n",
       "      <td>30626.73</td>\n",
       "      <td>14067.72</td>\n",
       "      <td>2082.07</td>\n",
       "      <td>1455.51</td>\n",
       "      <td>14998.13</td>\n",
       "    </tr>\n",
       "    <tr>\n",
       "      <th>24</th>\n",
       "      <td>10646.7</td>\n",
       "      <td>3979.73</td>\n",
       "      <td>5840.72</td>\n",
       "      <td>-156.93</td>\n",
       "      <td>1600.51</td>\n",
       "      <td>4253.13</td>\n",
       "    </tr>\n",
       "    <tr>\n",
       "      <th>25</th>\n",
       "      <td>4164.7</td>\n",
       "      <td>-1566.27</td>\n",
       "      <td>-356.28</td>\n",
       "      <td>-2870.93</td>\n",
       "      <td>1121.51</td>\n",
       "      <td>-1467.87</td>\n",
       "    </tr>\n",
       "    <tr>\n",
       "      <th>26</th>\n",
       "      <td>-2102.3</td>\n",
       "      <td>-4835.27</td>\n",
       "      <td>-5090.28</td>\n",
       "      <td>79.07</td>\n",
       "      <td>-2639.49</td>\n",
       "      <td>-691.87</td>\n",
       "    </tr>\n",
       "    <tr>\n",
       "      <th>27</th>\n",
       "      <td>2275.7</td>\n",
       "      <td>-4993.27</td>\n",
       "      <td>-4906.28</td>\n",
       "      <td>-2586.93</td>\n",
       "      <td>-2781.49</td>\n",
       "      <td>-1006.87</td>\n",
       "    </tr>\n",
       "    <tr>\n",
       "      <th>28</th>\n",
       "      <td>-7887.3</td>\n",
       "      <td>14687.73</td>\n",
       "      <td>18005.72</td>\n",
       "      <td>-1913.93</td>\n",
       "      <td>5722.51</td>\n",
       "      <td>3681.13</td>\n",
       "    </tr>\n",
       "    <tr>\n",
       "      <th>29</th>\n",
       "      <td>31087.7</td>\n",
       "      <td>-3696.27</td>\n",
       "      <td>-5342.28</td>\n",
       "      <td>-1871.93</td>\n",
       "      <td>-1774.49</td>\n",
       "      <td>-701.87</td>\n",
       "    </tr>\n",
       "    <tr>\n",
       "      <th>...</th>\n",
       "      <td>...</td>\n",
       "      <td>...</td>\n",
       "      <td>...</td>\n",
       "      <td>...</td>\n",
       "      <td>...</td>\n",
       "      <td>...</td>\n",
       "    </tr>\n",
       "    <tr>\n",
       "      <th>410</th>\n",
       "      <td>-5367.3</td>\n",
       "      <td>-3700.27</td>\n",
       "      <td>-3388.28</td>\n",
       "      <td>-1682.93</td>\n",
       "      <td>-1021.49</td>\n",
       "      <td>367.13</td>\n",
       "    </tr>\n",
       "    <tr>\n",
       "      <th>411</th>\n",
       "      <td>-9874.3</td>\n",
       "      <td>-2507.27</td>\n",
       "      <td>-4670.28</td>\n",
       "      <td>-1536.93</td>\n",
       "      <td>-2646.49</td>\n",
       "      <td>2840.13</td>\n",
       "    </tr>\n",
       "    <tr>\n",
       "      <th>412</th>\n",
       "      <td>-11903.3</td>\n",
       "      <td>-2191.27</td>\n",
       "      <td>4448.72</td>\n",
       "      <td>-2973.93</td>\n",
       "      <td>88.51</td>\n",
       "      <td>-1462.87</td>\n",
       "    </tr>\n",
       "    <tr>\n",
       "      <th>413</th>\n",
       "      <td>-7017.3</td>\n",
       "      <td>-937.27</td>\n",
       "      <td>-1318.28</td>\n",
       "      <td>14794.07</td>\n",
       "      <td>-1969.49</td>\n",
       "      <td>910.13</td>\n",
       "    </tr>\n",
       "    <tr>\n",
       "      <th>414</th>\n",
       "      <td>-6031.3</td>\n",
       "      <td>-3806.27</td>\n",
       "      <td>-4534.28</td>\n",
       "      <td>2607.07</td>\n",
       "      <td>-1746.49</td>\n",
       "      <td>-1234.87</td>\n",
       "    </tr>\n",
       "    <tr>\n",
       "      <th>415</th>\n",
       "      <td>-4158.3</td>\n",
       "      <td>249.73</td>\n",
       "      <td>600.72</td>\n",
       "      <td>-1380.93</td>\n",
       "      <td>658.51</td>\n",
       "      <td>349.13</td>\n",
       "    </tr>\n",
       "    <tr>\n",
       "      <th>416</th>\n",
       "      <td>-7611.3</td>\n",
       "      <td>5143.73</td>\n",
       "      <td>2956.72</td>\n",
       "      <td>-2223.93</td>\n",
       "      <td>3846.51</td>\n",
       "      <td>-531.87</td>\n",
       "    </tr>\n",
       "    <tr>\n",
       "      <th>417</th>\n",
       "      <td>-6935.3</td>\n",
       "      <td>-297.27</td>\n",
       "      <td>3103.72</td>\n",
       "      <td>-2707.93</td>\n",
       "      <td>603.51</td>\n",
       "      <td>-461.87</td>\n",
       "    </tr>\n",
       "    <tr>\n",
       "      <th>418</th>\n",
       "      <td>-11340.3</td>\n",
       "      <td>2697.73</td>\n",
       "      <td>10670.72</td>\n",
       "      <td>-2938.93</td>\n",
       "      <td>3858.51</td>\n",
       "      <td>-748.87</td>\n",
       "    </tr>\n",
       "    <tr>\n",
       "      <th>419</th>\n",
       "      <td>-3139.3</td>\n",
       "      <td>-2013.27</td>\n",
       "      <td>-5728.28</td>\n",
       "      <td>-2438.93</td>\n",
       "      <td>-1301.49</td>\n",
       "      <td>-3.87</td>\n",
       "    </tr>\n",
       "    <tr>\n",
       "      <th>420</th>\n",
       "      <td>-7544.3</td>\n",
       "      <td>-530.27</td>\n",
       "      <td>5275.72</td>\n",
       "      <td>-3046.93</td>\n",
       "      <td>3936.51</td>\n",
       "      <td>-131.87</td>\n",
       "    </tr>\n",
       "    <tr>\n",
       "      <th>421</th>\n",
       "      <td>5062.7</td>\n",
       "      <td>-949.27</td>\n",
       "      <td>1101.72</td>\n",
       "      <td>-2040.93</td>\n",
       "      <td>533.51</td>\n",
       "      <td>259.13</td>\n",
       "    </tr>\n",
       "    <tr>\n",
       "      <th>422</th>\n",
       "      <td>14399.7</td>\n",
       "      <td>-4419.27</td>\n",
       "      <td>-3779.28</td>\n",
       "      <td>-2241.93</td>\n",
       "      <td>-1933.49</td>\n",
       "      <td>-306.87</td>\n",
       "    </tr>\n",
       "    <tr>\n",
       "      <th>423</th>\n",
       "      <td>5564.7</td>\n",
       "      <td>-2110.27</td>\n",
       "      <td>-3294.28</td>\n",
       "      <td>-2012.93</td>\n",
       "      <td>-1078.49</td>\n",
       "      <td>-856.87</td>\n",
       "    </tr>\n",
       "    <tr>\n",
       "      <th>424</th>\n",
       "      <td>4979.7</td>\n",
       "      <td>-2912.27</td>\n",
       "      <td>4280.72</td>\n",
       "      <td>-2197.93</td>\n",
       "      <td>331.51</td>\n",
       "      <td>-1275.87</td>\n",
       "    </tr>\n",
       "    <tr>\n",
       "      <th>425</th>\n",
       "      <td>-757.3</td>\n",
       "      <td>-3388.27</td>\n",
       "      <td>-5358.28</td>\n",
       "      <td>12276.07</td>\n",
       "      <td>-2773.49</td>\n",
       "      <td>361.13</td>\n",
       "    </tr>\n",
       "    <tr>\n",
       "      <th>426</th>\n",
       "      <td>1133.7</td>\n",
       "      <td>3550.73</td>\n",
       "      <td>6364.72</td>\n",
       "      <td>69.07</td>\n",
       "      <td>2197.51</td>\n",
       "      <td>369.13</td>\n",
       "    </tr>\n",
       "    <tr>\n",
       "      <th>427</th>\n",
       "      <td>19011.7</td>\n",
       "      <td>10890.73</td>\n",
       "      <td>-2522.28</td>\n",
       "      <td>12010.07</td>\n",
       "      <td>-2442.49</td>\n",
       "      <td>-361.87</td>\n",
       "    </tr>\n",
       "    <tr>\n",
       "      <th>428</th>\n",
       "      <td>-8953.3</td>\n",
       "      <td>173.73</td>\n",
       "      <td>-3041.28</td>\n",
       "      <td>-873.93</td>\n",
       "      <td>-2031.49</td>\n",
       "      <td>-1207.87</td>\n",
       "    </tr>\n",
       "    <tr>\n",
       "      <th>429</th>\n",
       "      <td>-3393.3</td>\n",
       "      <td>-4046.27</td>\n",
       "      <td>-4371.28</td>\n",
       "      <td>-3024.93</td>\n",
       "      <td>-2797.49</td>\n",
       "      <td>976.13</td>\n",
       "    </tr>\n",
       "    <tr>\n",
       "      <th>430</th>\n",
       "      <td>-8903.3</td>\n",
       "      <td>-1566.27</td>\n",
       "      <td>8531.72</td>\n",
       "      <td>-2496.93</td>\n",
       "      <td>-2640.49</td>\n",
       "      <td>555.13</td>\n",
       "    </tr>\n",
       "    <tr>\n",
       "      <th>431</th>\n",
       "      <td>-3467.3</td>\n",
       "      <td>-290.27</td>\n",
       "      <td>-2791.28</td>\n",
       "      <td>10414.07</td>\n",
       "      <td>-1504.49</td>\n",
       "      <td>-26.87</td>\n",
       "    </tr>\n",
       "    <tr>\n",
       "      <th>432</th>\n",
       "      <td>9116.7</td>\n",
       "      <td>-4634.27</td>\n",
       "      <td>-3197.28</td>\n",
       "      <td>-2802.93</td>\n",
       "      <td>-1553.49</td>\n",
       "      <td>-1129.87</td>\n",
       "    </tr>\n",
       "    <tr>\n",
       "      <th>433</th>\n",
       "      <td>-10018.3</td>\n",
       "      <td>-2578.27</td>\n",
       "      <td>-6458.28</td>\n",
       "      <td>-1530.93</td>\n",
       "      <td>-2525.49</td>\n",
       "      <td>-75.87</td>\n",
       "    </tr>\n",
       "    <tr>\n",
       "      <th>434</th>\n",
       "      <td>4730.7</td>\n",
       "      <td>-1874.27</td>\n",
       "      <td>42.72</td>\n",
       "      <td>-2383.93</td>\n",
       "      <td>-510.49</td>\n",
       "      <td>-686.87</td>\n",
       "    </tr>\n",
       "    <tr>\n",
       "      <th>435</th>\n",
       "      <td>17702.7</td>\n",
       "      <td>6254.73</td>\n",
       "      <td>8075.72</td>\n",
       "      <td>10063.07</td>\n",
       "      <td>-2699.49</td>\n",
       "      <td>679.13</td>\n",
       "    </tr>\n",
       "    <tr>\n",
       "      <th>436</th>\n",
       "      <td>27227.7</td>\n",
       "      <td>-4365.27</td>\n",
       "      <td>-7187.28</td>\n",
       "      <td>1438.07</td>\n",
       "      <td>-2788.49</td>\n",
       "      <td>821.13</td>\n",
       "    </tr>\n",
       "    <tr>\n",
       "      <th>437</th>\n",
       "      <td>2530.7</td>\n",
       "      <td>9691.73</td>\n",
       "      <td>22291.72</td>\n",
       "      <td>-2634.93</td>\n",
       "      <td>11959.51</td>\n",
       "      <td>342.13</td>\n",
       "    </tr>\n",
       "    <tr>\n",
       "      <th>438</th>\n",
       "      <td>-1710.3</td>\n",
       "      <td>-3815.27</td>\n",
       "      <td>-5719.28</td>\n",
       "      <td>-2033.93</td>\n",
       "      <td>-2713.49</td>\n",
       "      <td>600.13</td>\n",
       "    </tr>\n",
       "    <tr>\n",
       "      <th>439</th>\n",
       "      <td>-9213.3</td>\n",
       "      <td>-4098.27</td>\n",
       "      <td>-5441.28</td>\n",
       "      <td>-3006.93</td>\n",
       "      <td>-2404.49</td>\n",
       "      <td>-1472.87</td>\n",
       "    </tr>\n",
       "  </tbody>\n",
       "</table>\n",
       "<p>440 rows × 6 columns</p>\n",
       "</div>"
      ],
      "text/plain": [
       "       Fresh      Milk   Grocery    Frozen  Detergents_Paper  Delicatessen\n",
       "0      668.7   3859.73   -390.28  -2857.93           -207.49       -186.87\n",
       "1    -4943.3   4013.73   1616.72  -1309.93            411.51        251.13\n",
       "2    -5647.3   3011.73   -267.28   -666.93            634.51       6319.13\n",
       "3     1264.7  -4600.27  -3730.28   3332.07          -2374.49        263.13\n",
       "4    10614.7   -386.27   -753.28    843.07          -1104.49       3660.13\n",
       "5    -2587.3   2462.73  -2825.28  -2405.93          -1086.49        -73.87\n",
       "6      125.7  -2597.27   -976.28  -2591.93            258.51       -979.87\n",
       "7    -4421.3   -840.27   1474.72  -1402.93            439.51       1041.13\n",
       "8    -6037.3  -2148.27  -1759.28  -2646.93          -1165.49       -774.87\n",
       "9    -5994.3   5296.73  10929.72  -1912.93           4543.51        573.13\n",
       "10   -8634.3   -393.27   5022.72   1328.07           3095.51        219.13\n",
       "11    1145.7  -4672.27  -3428.28  -1651.93          -2332.49      -1027.87\n",
       "12   19713.7   6522.73   3805.72  -2784.93            999.51       1406.13\n",
       "13    9216.7    411.73   7030.72     23.07           3825.51       -922.87\n",
       "14   12652.7   3668.73   4139.72  -2777.93           2176.51        643.13\n",
       "15   -1747.3  -4682.27  -4130.28  -2674.93          -1917.49      -1112.87\n",
       "16  -10980.3   3019.73   4169.72  -2937.93           1626.51       -444.87\n",
       "17   -6124.3    360.73  -5018.28  -2232.93          -2511.49       2953.13\n",
       "18    6600.7    530.73   2147.72   -866.93           -114.49       1656.13\n",
       "19   -4220.3  -3301.27   1512.72  -2402.93           -363.49      -1023.87\n",
       "20    5545.7  -1277.27  -3349.28  -2005.93           -622.49        599.13\n",
       "21   -6433.3  -4925.27  -5941.28    311.07          -2506.49       -955.87\n",
       "22   19275.7  -3879.27  -3482.28   6336.07           -500.49       2809.13\n",
       "23   14372.7  30626.73  14067.72   2082.07           1455.51      14998.13\n",
       "24   10646.7   3979.73   5840.72   -156.93           1600.51       4253.13\n",
       "25    4164.7  -1566.27   -356.28  -2870.93           1121.51      -1467.87\n",
       "26   -2102.3  -4835.27  -5090.28     79.07          -2639.49       -691.87\n",
       "27    2275.7  -4993.27  -4906.28  -2586.93          -2781.49      -1006.87\n",
       "28   -7887.3  14687.73  18005.72  -1913.93           5722.51       3681.13\n",
       "29   31087.7  -3696.27  -5342.28  -1871.93          -1774.49       -701.87\n",
       "..       ...       ...       ...       ...               ...           ...\n",
       "410  -5367.3  -3700.27  -3388.28  -1682.93          -1021.49        367.13\n",
       "411  -9874.3  -2507.27  -4670.28  -1536.93          -2646.49       2840.13\n",
       "412 -11903.3  -2191.27   4448.72  -2973.93             88.51      -1462.87\n",
       "413  -7017.3   -937.27  -1318.28  14794.07          -1969.49        910.13\n",
       "414  -6031.3  -3806.27  -4534.28   2607.07          -1746.49      -1234.87\n",
       "415  -4158.3    249.73    600.72  -1380.93            658.51        349.13\n",
       "416  -7611.3   5143.73   2956.72  -2223.93           3846.51       -531.87\n",
       "417  -6935.3   -297.27   3103.72  -2707.93            603.51       -461.87\n",
       "418 -11340.3   2697.73  10670.72  -2938.93           3858.51       -748.87\n",
       "419  -3139.3  -2013.27  -5728.28  -2438.93          -1301.49         -3.87\n",
       "420  -7544.3   -530.27   5275.72  -3046.93           3936.51       -131.87\n",
       "421   5062.7   -949.27   1101.72  -2040.93            533.51        259.13\n",
       "422  14399.7  -4419.27  -3779.28  -2241.93          -1933.49       -306.87\n",
       "423   5564.7  -2110.27  -3294.28  -2012.93          -1078.49       -856.87\n",
       "424   4979.7  -2912.27   4280.72  -2197.93            331.51      -1275.87\n",
       "425   -757.3  -3388.27  -5358.28  12276.07          -2773.49        361.13\n",
       "426   1133.7   3550.73   6364.72     69.07           2197.51        369.13\n",
       "427  19011.7  10890.73  -2522.28  12010.07          -2442.49       -361.87\n",
       "428  -8953.3    173.73  -3041.28   -873.93          -2031.49      -1207.87\n",
       "429  -3393.3  -4046.27  -4371.28  -3024.93          -2797.49        976.13\n",
       "430  -8903.3  -1566.27   8531.72  -2496.93          -2640.49        555.13\n",
       "431  -3467.3   -290.27  -2791.28  10414.07          -1504.49        -26.87\n",
       "432   9116.7  -4634.27  -3197.28  -2802.93          -1553.49      -1129.87\n",
       "433 -10018.3  -2578.27  -6458.28  -1530.93          -2525.49        -75.87\n",
       "434   4730.7  -1874.27     42.72  -2383.93           -510.49       -686.87\n",
       "435  17702.7   6254.73   8075.72  10063.07          -2699.49        679.13\n",
       "436  27227.7  -4365.27  -7187.28   1438.07          -2788.49        821.13\n",
       "437   2530.7   9691.73  22291.72  -2634.93          11959.51        342.13\n",
       "438  -1710.3  -3815.27  -5719.28  -2033.93          -2713.49        600.13\n",
       "439  -9213.3  -4098.27  -5441.28  -3006.93          -2404.49      -1472.87\n",
       "\n",
       "[440 rows x 6 columns]"
      ]
     },
     "execution_count": 191,
     "metadata": {},
     "output_type": "execute_result"
    }
   ],
   "source": [
    "centered = pd.DataFrame(data[columns].values - means[columns].values,columns = columns)\n",
    "centered"
   ]
  },
  {
   "cell_type": "code",
   "execution_count": 192,
   "metadata": {
    "collapsed": false,
    "scrolled": true
   },
   "outputs": [
    {
     "data": {
      "text/html": [
       "<div>\n",
       "<table border=\"1\" class=\"dataframe\">\n",
       "  <thead>\n",
       "    <tr style=\"text-align: right;\">\n",
       "      <th></th>\n",
       "      <th>Fresh</th>\n",
       "      <th>Milk</th>\n",
       "      <th>Grocery</th>\n",
       "      <th>Frozen</th>\n",
       "      <th>Detergents_Paper</th>\n",
       "      <th>Delicatessen</th>\n",
       "    </tr>\n",
       "  </thead>\n",
       "  <tbody>\n",
       "    <tr>\n",
       "      <th>0</th>\n",
       "      <td>12669</td>\n",
       "      <td>9656</td>\n",
       "      <td>7561</td>\n",
       "      <td>214</td>\n",
       "      <td>2674</td>\n",
       "      <td>1338</td>\n",
       "    </tr>\n",
       "    <tr>\n",
       "      <th>1</th>\n",
       "      <td>7057</td>\n",
       "      <td>9810</td>\n",
       "      <td>9568</td>\n",
       "      <td>1762</td>\n",
       "      <td>3293</td>\n",
       "      <td>1776</td>\n",
       "    </tr>\n",
       "    <tr>\n",
       "      <th>2</th>\n",
       "      <td>6353</td>\n",
       "      <td>8808</td>\n",
       "      <td>7684</td>\n",
       "      <td>2405</td>\n",
       "      <td>3516</td>\n",
       "      <td>7844</td>\n",
       "    </tr>\n",
       "    <tr>\n",
       "      <th>3</th>\n",
       "      <td>13265</td>\n",
       "      <td>1196</td>\n",
       "      <td>4221</td>\n",
       "      <td>6404</td>\n",
       "      <td>507</td>\n",
       "      <td>1788</td>\n",
       "    </tr>\n",
       "    <tr>\n",
       "      <th>4</th>\n",
       "      <td>22615</td>\n",
       "      <td>5410</td>\n",
       "      <td>7198</td>\n",
       "      <td>3915</td>\n",
       "      <td>1777</td>\n",
       "      <td>5185</td>\n",
       "    </tr>\n",
       "    <tr>\n",
       "      <th>5</th>\n",
       "      <td>9413</td>\n",
       "      <td>8259</td>\n",
       "      <td>5126</td>\n",
       "      <td>666</td>\n",
       "      <td>1795</td>\n",
       "      <td>1451</td>\n",
       "    </tr>\n",
       "  </tbody>\n",
       "</table>\n",
       "</div>"
      ],
      "text/plain": [
       "   Fresh  Milk  Grocery  Frozen  Detergents_Paper  Delicatessen\n",
       "0  12669  9656     7561     214              2674          1338\n",
       "1   7057  9810     9568    1762              3293          1776\n",
       "2   6353  8808     7684    2405              3516          7844\n",
       "3  13265  1196     4221    6404               507          1788\n",
       "4  22615  5410     7198    3915              1777          5185\n",
       "5   9413  8259     5126     666              1795          1451"
      ]
     },
     "execution_count": 192,
     "metadata": {},
     "output_type": "execute_result"
    }
   ],
   "source": [
    "data.head(6)"
   ]
  },
  {
   "cell_type": "code",
   "execution_count": 193,
   "metadata": {
    "collapsed": false
   },
   "outputs": [
    {
     "name": "stdout",
     "output_type": "stream",
     "text": [
      "[[  2.02003797e-07  -1.79579632e-06   7.10800597e-06   3.20690466e-07\n",
      "   -2.38146667e-06  -1.75454210e-06]\n",
      " [ -1.62061182e-07  -9.82236528e-06   5.84993261e-06   3.68262841e-07\n",
      "   -3.46678077e-06   5.94869412e-06]\n",
      " [  8.62976227e-07   1.34105131e-07  -7.68601760e-07  -1.11471066e-05\n",
      "    5.38730191e-07   5.97328796e-06]\n",
      " [  3.97790968e-06  -8.94497296e-07  -7.34195031e-07  -6.68425774e-07\n",
      "    2.31283560e-06  -9.64793816e-07]\n",
      " [ -3.90303589e-07  -2.64484312e-07  -5.70406958e-07  -5.09399764e-07\n",
      "    4.94816790e-07   1.81141099e-05]\n",
      " [  2.75131459e-07  -2.45442813e-06  -1.16461249e-05   1.48562237e-06\n",
      "    2.80802618e-05   5.68478441e-06]]\n"
     ]
    }
   ],
   "source": [
    "# TODO: Fit an ICA model to the data\n",
    "# Note: Adjust the data to have center at the origin first!\n",
    "from sklearn.decomposition import FastICA\n",
    "\n",
    "# Transform with ICA and then save to disk so that component ordering does not change.\n",
    "\n",
    "# ica = FastICA()\n",
    "# ica_transformed = ica.fit_transform(centered)\n",
    "\n",
    "# from sklearn.externals import joblib\n",
    "# joblib.dump(ica, 'ica.pkl') \n",
    "\n",
    "# Load saved ICA\n",
    "\n",
    "ica = joblib.load('ica.pkl') \n",
    "\n",
    "\n",
    "# Print the independent components\n",
    "print ica.components_"
   ]
  },
  {
   "cell_type": "code",
   "execution_count": 194,
   "metadata": {
    "collapsed": false
   },
   "outputs": [
    {
     "data": {
      "text/plain": [
       "FastICA(algorithm='parallel', fun='logcosh', fun_args=None, max_iter=200,\n",
       "    n_components=None, random_state=None, tol=0.0001, w_init=None,\n",
       "    whiten=True)"
      ]
     },
     "execution_count": 194,
     "metadata": {},
     "output_type": "execute_result"
    }
   ],
   "source": [
    "ica"
   ]
  },
  {
   "cell_type": "code",
   "execution_count": 195,
   "metadata": {
    "collapsed": false,
    "scrolled": true
   },
   "outputs": [
    {
     "data": {
      "text/html": [
       "<div>\n",
       "<table border=\"1\" class=\"dataframe\">\n",
       "  <thead>\n",
       "    <tr style=\"text-align: right;\">\n",
       "      <th></th>\n",
       "      <th>0</th>\n",
       "      <th>1</th>\n",
       "      <th>2</th>\n",
       "      <th>3</th>\n",
       "      <th>4</th>\n",
       "      <th>5</th>\n",
       "    </tr>\n",
       "  </thead>\n",
       "  <tbody>\n",
       "    <tr>\n",
       "      <th>0</th>\n",
       "      <td>-0.009665</td>\n",
       "      <td>-0.041748</td>\n",
       "      <td>0.032024</td>\n",
       "      <td>0.001105</td>\n",
       "      <td>-0.003091</td>\n",
       "      <td>-0.015879</td>\n",
       "    </tr>\n",
       "    <tr>\n",
       "      <th>1</th>\n",
       "      <td>0.001445</td>\n",
       "      <td>-0.029581</td>\n",
       "      <td>0.011353</td>\n",
       "      <td>-0.022856</td>\n",
       "      <td>0.005366</td>\n",
       "      <td>-0.019003</td>\n",
       "    </tr>\n",
       "    <tr>\n",
       "      <th>2</th>\n",
       "      <td>-0.021261</td>\n",
       "      <td>0.004915</td>\n",
       "      <td>0.041258</td>\n",
       "      <td>-0.029146</td>\n",
       "      <td>0.116679</td>\n",
       "      <td>0.046916</td>\n",
       "    </tr>\n",
       "    <tr>\n",
       "      <th>3</th>\n",
       "      <td>-0.011737</td>\n",
       "      <td>0.034183</td>\n",
       "      <td>-0.033509</td>\n",
       "      <td>0.003912</td>\n",
       "      <td>0.004745</td>\n",
       "      <td>-0.005148</td>\n",
       "    </tr>\n",
       "    <tr>\n",
       "      <th>4</th>\n",
       "      <td>-0.006038</td>\n",
       "      <td>0.023580</td>\n",
       "      <td>0.021558</td>\n",
       "      <td>0.036474</td>\n",
       "      <td>0.061713</td>\n",
       "      <td>0.003686</td>\n",
       "    </tr>\n",
       "    <tr>\n",
       "      <th>5</th>\n",
       "      <td>-0.023082</td>\n",
       "      <td>-0.037857</td>\n",
       "      <td>0.026062</td>\n",
       "      <td>-0.011254</td>\n",
       "      <td>0.001320</td>\n",
       "      <td>-0.008356</td>\n",
       "    </tr>\n",
       "    <tr>\n",
       "      <th>6</th>\n",
       "      <td>-0.001977</td>\n",
       "      <td>0.012100</td>\n",
       "      <td>0.023689</td>\n",
       "      <td>0.006816</td>\n",
       "      <td>-0.015106</td>\n",
       "      <td>0.015617</td>\n",
       "    </tr>\n",
       "    <tr>\n",
       "      <th>7</th>\n",
       "      <td>0.007775</td>\n",
       "      <td>0.021750</td>\n",
       "      <td>0.017033</td>\n",
       "      <td>-0.016969</td>\n",
       "      <td>0.020898</td>\n",
       "      <td>-0.000153</td>\n",
       "    </tr>\n",
       "    <tr>\n",
       "      <th>8</th>\n",
       "      <td>-0.006580</td>\n",
       "      <td>0.010244</td>\n",
       "      <td>0.020103</td>\n",
       "      <td>-0.020981</td>\n",
       "      <td>-0.009336</td>\n",
       "      <td>-0.016964</td>\n",
       "    </tr>\n",
       "    <tr>\n",
       "      <th>9</th>\n",
       "      <td>0.054527</td>\n",
       "      <td>-0.000163</td>\n",
       "      <td>0.014332</td>\n",
       "      <td>-0.025373</td>\n",
       "      <td>0.008309</td>\n",
       "      <td>-0.013940</td>\n",
       "    </tr>\n",
       "    <tr>\n",
       "      <th>10</th>\n",
       "      <td>0.027333</td>\n",
       "      <td>0.025706</td>\n",
       "      <td>-0.023192</td>\n",
       "      <td>-0.031622</td>\n",
       "      <td>0.005434</td>\n",
       "      <td>0.030236</td>\n",
       "    </tr>\n",
       "    <tr>\n",
       "      <th>11</th>\n",
       "      <td>-0.008918</td>\n",
       "      <td>0.027015</td>\n",
       "      <td>0.014015</td>\n",
       "      <td>0.007955</td>\n",
       "      <td>-0.016188</td>\n",
       "      <td>-0.022085</td>\n",
       "    </tr>\n",
       "    <tr>\n",
       "      <th>12</th>\n",
       "      <td>0.013579</td>\n",
       "      <td>-0.041126</td>\n",
       "      <td>0.054944</td>\n",
       "      <td>0.072607</td>\n",
       "      <td>0.015794</td>\n",
       "      <td>-0.022985</td>\n",
       "    </tr>\n",
       "    <tr>\n",
       "      <th>13</th>\n",
       "      <td>0.043613</td>\n",
       "      <td>0.016848</td>\n",
       "      <td>-0.001104</td>\n",
       "      <td>0.040856</td>\n",
       "      <td>-0.022552</td>\n",
       "      <td>0.021854</td>\n",
       "    </tr>\n",
       "    <tr>\n",
       "      <th>14</th>\n",
       "      <td>0.018190</td>\n",
       "      <td>-0.018612</td>\n",
       "      <td>0.044209</td>\n",
       "      <td>0.050281</td>\n",
       "      <td>0.005872</td>\n",
       "      <td>0.006911</td>\n",
       "    </tr>\n",
       "    <tr>\n",
       "      <th>15</th>\n",
       "      <td>-0.015641</td>\n",
       "      <td>0.021155</td>\n",
       "      <td>0.023176</td>\n",
       "      <td>-0.001303</td>\n",
       "      <td>-0.015469</td>\n",
       "      <td>-0.005031</td>\n",
       "    </tr>\n",
       "    <tr>\n",
       "      <th>16</th>\n",
       "      <td>0.017962</td>\n",
       "      <td>-0.012856</td>\n",
       "      <td>0.018693</td>\n",
       "      <td>-0.043286</td>\n",
       "      <td>-0.004648</td>\n",
       "      <td>-0.020215</td>\n",
       "    </tr>\n",
       "    <tr>\n",
       "      <th>17</th>\n",
       "      <td>-0.037471</td>\n",
       "      <td>-0.006456</td>\n",
       "      <td>0.039798</td>\n",
       "      <td>-0.028165</td>\n",
       "      <td>0.058545</td>\n",
       "      <td>-0.001180</td>\n",
       "    </tr>\n",
       "    <tr>\n",
       "      <th>18</th>\n",
       "      <td>0.012735</td>\n",
       "      <td>0.016211</td>\n",
       "      <td>0.023611</td>\n",
       "      <td>0.022922</td>\n",
       "      <td>0.026443</td>\n",
       "      <td>-0.019587</td>\n",
       "    </tr>\n",
       "    <tr>\n",
       "      <th>19</th>\n",
       "      <td>0.017720</td>\n",
       "      <td>0.036244</td>\n",
       "      <td>0.015227</td>\n",
       "      <td>-0.013192</td>\n",
       "      <td>-0.015845</td>\n",
       "      <td>-0.030273</td>\n",
       "    </tr>\n",
       "    <tr>\n",
       "      <th>20</th>\n",
       "      <td>-0.020605</td>\n",
       "      <td>-0.002963</td>\n",
       "      <td>0.032793</td>\n",
       "      <td>0.024985</td>\n",
       "      <td>0.011650</td>\n",
       "      <td>0.026613</td>\n",
       "    </tr>\n",
       "    <tr>\n",
       "      <th>21</th>\n",
       "      <td>-0.026939</td>\n",
       "      <td>0.017782</td>\n",
       "      <td>-0.012173</td>\n",
       "      <td>-0.021906</td>\n",
       "      <td>-0.011511</td>\n",
       "      <td>0.004157</td>\n",
       "    </tr>\n",
       "    <tr>\n",
       "      <th>22</th>\n",
       "      <td>-0.015597</td>\n",
       "      <td>0.035388</td>\n",
       "      <td>-0.035328</td>\n",
       "      <td>0.074601</td>\n",
       "      <td>0.042899</td>\n",
       "      <td>0.066708</td>\n",
       "    </tr>\n",
       "    <tr>\n",
       "      <th>23</th>\n",
       "      <td>0.018784</td>\n",
       "      <td>-0.135921</td>\n",
       "      <td>0.072861</td>\n",
       "      <td>0.006954</td>\n",
       "      <td>0.249603</td>\n",
       "      <td>-0.105826</td>\n",
       "    </tr>\n",
       "    <tr>\n",
       "      <th>24</th>\n",
       "      <td>0.025196</td>\n",
       "      <td>0.013046</td>\n",
       "      <td>0.033249</td>\n",
       "      <td>0.034207</td>\n",
       "      <td>0.069374</td>\n",
       "      <td>-0.005973</td>\n",
       "    </tr>\n",
       "    <tr>\n",
       "      <th>25</th>\n",
       "      <td>0.000105</td>\n",
       "      <td>-0.001052</td>\n",
       "      <td>0.027497</td>\n",
       "      <td>0.024158</td>\n",
       "      <td>-0.025580</td>\n",
       "      <td>0.028022</td>\n",
       "    </tr>\n",
       "    <tr>\n",
       "      <th>26</th>\n",
       "      <td>-0.020398</td>\n",
       "      <td>0.023121</td>\n",
       "      <td>-0.004986</td>\n",
       "      <td>-0.005790</td>\n",
       "      <td>-0.008876</td>\n",
       "      <td>-0.007362</td>\n",
       "    </tr>\n",
       "    <tr>\n",
       "      <th>27</th>\n",
       "      <td>-0.017886</td>\n",
       "      <td>0.022676</td>\n",
       "      <td>0.026389</td>\n",
       "      <td>0.013389</td>\n",
       "      <td>-0.015066</td>\n",
       "      <td>-0.017651</td>\n",
       "    </tr>\n",
       "    <tr>\n",
       "      <th>28</th>\n",
       "      <td>0.079315</td>\n",
       "      <td>-0.036303</td>\n",
       "      <td>0.027730</td>\n",
       "      <td>-0.046770</td>\n",
       "      <td>0.059410</td>\n",
       "      <td>-0.069144</td>\n",
       "    </tr>\n",
       "    <tr>\n",
       "      <th>29</th>\n",
       "      <td>-0.020198</td>\n",
       "      <td>0.001303</td>\n",
       "      <td>0.046157</td>\n",
       "      <td>0.128717</td>\n",
       "      <td>-0.020747</td>\n",
       "      <td>0.023243</td>\n",
       "    </tr>\n",
       "    <tr>\n",
       "      <th>...</th>\n",
       "      <td>...</td>\n",
       "      <td>...</td>\n",
       "      <td>...</td>\n",
       "      <td>...</td>\n",
       "      <td>...</td>\n",
       "      <td>...</td>\n",
       "    </tr>\n",
       "    <tr>\n",
       "      <th>410</th>\n",
       "      <td>-0.017274</td>\n",
       "      <td>0.022499</td>\n",
       "      <td>0.017879</td>\n",
       "      <td>-0.017145</td>\n",
       "      <td>0.012008</td>\n",
       "      <td>0.017969</td>\n",
       "    </tr>\n",
       "    <tr>\n",
       "      <th>411</th>\n",
       "      <td>-0.029862</td>\n",
       "      <td>0.024411</td>\n",
       "      <td>0.027404</td>\n",
       "      <td>-0.041441</td>\n",
       "      <td>0.058101</td>\n",
       "      <td>-0.002624</td>\n",
       "    </tr>\n",
       "    <tr>\n",
       "      <th>412</th>\n",
       "      <td>0.034554</td>\n",
       "      <td>0.039373</td>\n",
       "      <td>0.010475</td>\n",
       "      <td>-0.045052</td>\n",
       "      <td>-0.022252</td>\n",
       "      <td>-0.059956</td>\n",
       "    </tr>\n",
       "    <tr>\n",
       "      <th>413</th>\n",
       "      <td>-0.001267</td>\n",
       "      <td>0.020322</td>\n",
       "      <td>-0.165704</td>\n",
       "      <td>-0.041430</td>\n",
       "      <td>0.011714</td>\n",
       "      <td>-0.012429</td>\n",
       "    </tr>\n",
       "    <tr>\n",
       "      <th>414</th>\n",
       "      <td>-0.019451</td>\n",
       "      <td>0.011508</td>\n",
       "      <td>-0.039609</td>\n",
       "      <td>-0.021849</td>\n",
       "      <td>-0.018614</td>\n",
       "      <td>0.008301</td>\n",
       "    </tr>\n",
       "    <tr>\n",
       "      <th>415</th>\n",
       "      <td>0.000358</td>\n",
       "      <td>0.001021</td>\n",
       "      <td>0.013817</td>\n",
       "      <td>-0.015097</td>\n",
       "      <td>0.008568</td>\n",
       "      <td>0.009671</td>\n",
       "    </tr>\n",
       "    <tr>\n",
       "      <th>416</th>\n",
       "      <td>0.001301</td>\n",
       "      <td>-0.049311</td>\n",
       "      <td>0.015535</td>\n",
       "      <td>-0.026153</td>\n",
       "      <td>-0.006674</td>\n",
       "      <td>0.052530</td>\n",
       "    </tr>\n",
       "    <tr>\n",
       "      <th>417</th>\n",
       "      <td>0.019699</td>\n",
       "      <td>0.016363</td>\n",
       "      <td>0.019341</td>\n",
       "      <td>-0.025949</td>\n",
       "      <td>-0.005673</td>\n",
       "      <td>-0.027027</td>\n",
       "    </tr>\n",
       "    <tr>\n",
       "      <th>418</th>\n",
       "      <td>0.059895</td>\n",
       "      <td>0.018849</td>\n",
       "      <td>0.012740</td>\n",
       "      <td>-0.043747</td>\n",
       "      <td>-0.012533</td>\n",
       "      <td>-0.034289</td>\n",
       "    </tr>\n",
       "    <tr>\n",
       "      <th>419</th>\n",
       "      <td>-0.035411</td>\n",
       "      <td>-0.009635</td>\n",
       "      <td>0.027886</td>\n",
       "      <td>-0.007857</td>\n",
       "      <td>0.005553</td>\n",
       "      <td>0.030598</td>\n",
       "    </tr>\n",
       "    <tr>\n",
       "      <th>420</th>\n",
       "      <td>0.026808</td>\n",
       "      <td>0.021740</td>\n",
       "      <td>0.024661</td>\n",
       "      <td>-0.022141</td>\n",
       "      <td>0.001187</td>\n",
       "      <td>0.043046</td>\n",
       "    </tr>\n",
       "    <tr>\n",
       "      <th>421</th>\n",
       "      <td>0.008179</td>\n",
       "      <td>0.013889</td>\n",
       "      <td>0.027981</td>\n",
       "      <td>0.022527</td>\n",
       "      <td>0.003644</td>\n",
       "      <td>0.004314</td>\n",
       "    </tr>\n",
       "    <tr>\n",
       "      <th>422</th>\n",
       "      <td>-0.011594</td>\n",
       "      <td>0.023017</td>\n",
       "      <td>0.036855</td>\n",
       "      <td>0.061331</td>\n",
       "      <td>-0.007669</td>\n",
       "      <td>-0.000546</td>\n",
       "    </tr>\n",
       "    <tr>\n",
       "      <th>423</th>\n",
       "      <td>-0.015076</td>\n",
       "      <td>-0.001545</td>\n",
       "      <td>0.023790</td>\n",
       "      <td>0.026120</td>\n",
       "      <td>-0.014764</td>\n",
       "      <td>0.006930</td>\n",
       "    </tr>\n",
       "    <tr>\n",
       "      <th>424</th>\n",
       "      <td>0.037407</td>\n",
       "      <td>0.043292</td>\n",
       "      <td>0.017675</td>\n",
       "      <td>0.022738</td>\n",
       "      <td>-0.025443</td>\n",
       "      <td>-0.042545</td>\n",
       "    </tr>\n",
       "    <tr>\n",
       "      <th>425</th>\n",
       "      <td>-0.022247</td>\n",
       "      <td>0.018342</td>\n",
       "      <td>-0.133169</td>\n",
       "      <td>-0.011016</td>\n",
       "      <td>0.003164</td>\n",
       "      <td>0.012921</td>\n",
       "    </tr>\n",
       "    <tr>\n",
       "      <th>426</th>\n",
       "      <td>0.033234</td>\n",
       "      <td>-0.003224</td>\n",
       "      <td>-0.000819</td>\n",
       "      <td>0.001341</td>\n",
       "      <td>0.002727</td>\n",
       "      <td>-0.018620</td>\n",
       "    </tr>\n",
       "    <tr>\n",
       "      <th>427</th>\n",
       "      <td>-0.023342</td>\n",
       "      <td>-0.114071</td>\n",
       "      <td>-0.117549</td>\n",
       "      <td>0.054409</td>\n",
       "      <td>-0.022744</td>\n",
       "      <td>-0.044926</td>\n",
       "    </tr>\n",
       "    <tr>\n",
       "      <th>428</th>\n",
       "      <td>-0.017061</td>\n",
       "      <td>-0.018511</td>\n",
       "      <td>-0.003933</td>\n",
       "      <td>-0.036487</td>\n",
       "      <td>-0.017256</td>\n",
       "      <td>-0.032680</td>\n",
       "    </tr>\n",
       "    <tr>\n",
       "      <th>429</th>\n",
       "      <td>-0.020511</td>\n",
       "      <td>0.029113</td>\n",
       "      <td>0.037932</td>\n",
       "      <td>-0.012059</td>\n",
       "      <td>0.022726</td>\n",
       "      <td>-0.017593</td>\n",
       "    </tr>\n",
       "    <tr>\n",
       "      <th>430</th>\n",
       "      <td>0.066171</td>\n",
       "      <td>0.078274</td>\n",
       "      <td>0.015276</td>\n",
       "      <td>-0.045253</td>\n",
       "      <td>0.009044</td>\n",
       "      <td>-0.172666</td>\n",
       "    </tr>\n",
       "    <tr>\n",
       "      <th>431</th>\n",
       "      <td>-0.013050</td>\n",
       "      <td>-0.004025</td>\n",
       "      <td>-0.117943</td>\n",
       "      <td>-0.021898</td>\n",
       "      <td>-0.003514</td>\n",
       "      <td>0.005338</td>\n",
       "    </tr>\n",
       "    <tr>\n",
       "      <th>432</th>\n",
       "      <td>-0.007779</td>\n",
       "      <td>0.022970</td>\n",
       "      <td>0.033362</td>\n",
       "      <td>0.042129</td>\n",
       "      <td>-0.020316</td>\n",
       "      <td>-0.003091</td>\n",
       "    </tr>\n",
       "    <tr>\n",
       "      <th>433</th>\n",
       "      <td>-0.037643</td>\n",
       "      <td>-0.003092</td>\n",
       "      <td>0.011224</td>\n",
       "      <td>-0.037549</td>\n",
       "      <td>0.006432</td>\n",
       "      <td>0.005164</td>\n",
       "    </tr>\n",
       "    <tr>\n",
       "      <th>434</th>\n",
       "      <td>0.006281</td>\n",
       "      <td>0.014699</td>\n",
       "      <td>0.025994</td>\n",
       "      <td>0.021539</td>\n",
       "      <td>-0.012855</td>\n",
       "      <td>-0.016377</td>\n",
       "    </tr>\n",
       "    <tr>\n",
       "      <th>435</th>\n",
       "      <td>0.058210</td>\n",
       "      <td>0.000042</td>\n",
       "      <td>-0.099663</td>\n",
       "      <td>0.045271</td>\n",
       "      <td>-0.007330</td>\n",
       "      <td>-0.161524</td>\n",
       "    </tr>\n",
       "    <tr>\n",
       "      <th>436</th>\n",
       "      <td>-0.032087</td>\n",
       "      <td>0.011501</td>\n",
       "      <td>0.015808</td>\n",
       "      <td>0.109288</td>\n",
       "      <td>0.007389</td>\n",
       "      <td>0.030412</td>\n",
       "    </tr>\n",
       "    <tr>\n",
       "      <th>437</th>\n",
       "      <td>0.111630</td>\n",
       "      <td>-0.005597</td>\n",
       "      <td>0.024209</td>\n",
       "      <td>0.014123</td>\n",
       "      <td>-0.002809</td>\n",
       "      <td>0.051153</td>\n",
       "    </tr>\n",
       "    <tr>\n",
       "      <th>438</th>\n",
       "      <td>-0.029390</td>\n",
       "      <td>0.016523</td>\n",
       "      <td>0.027204</td>\n",
       "      <td>-0.004687</td>\n",
       "      <td>0.015503</td>\n",
       "      <td>-0.000304</td>\n",
       "    </tr>\n",
       "    <tr>\n",
       "      <th>439</th>\n",
       "      <td>-0.025832</td>\n",
       "      <td>0.008384</td>\n",
       "      <td>0.019107</td>\n",
       "      <td>-0.031119</td>\n",
       "      <td>-0.018554</td>\n",
       "      <td>-0.009465</td>\n",
       "    </tr>\n",
       "  </tbody>\n",
       "</table>\n",
       "<p>440 rows × 6 columns</p>\n",
       "</div>"
      ],
      "text/plain": [
       "            0         1         2         3         4         5\n",
       "0   -0.009665 -0.041748  0.032024  0.001105 -0.003091 -0.015879\n",
       "1    0.001445 -0.029581  0.011353 -0.022856  0.005366 -0.019003\n",
       "2   -0.021261  0.004915  0.041258 -0.029146  0.116679  0.046916\n",
       "3   -0.011737  0.034183 -0.033509  0.003912  0.004745 -0.005148\n",
       "4   -0.006038  0.023580  0.021558  0.036474  0.061713  0.003686\n",
       "5   -0.023082 -0.037857  0.026062 -0.011254  0.001320 -0.008356\n",
       "6   -0.001977  0.012100  0.023689  0.006816 -0.015106  0.015617\n",
       "7    0.007775  0.021750  0.017033 -0.016969  0.020898 -0.000153\n",
       "8   -0.006580  0.010244  0.020103 -0.020981 -0.009336 -0.016964\n",
       "9    0.054527 -0.000163  0.014332 -0.025373  0.008309 -0.013940\n",
       "10   0.027333  0.025706 -0.023192 -0.031622  0.005434  0.030236\n",
       "11  -0.008918  0.027015  0.014015  0.007955 -0.016188 -0.022085\n",
       "12   0.013579 -0.041126  0.054944  0.072607  0.015794 -0.022985\n",
       "13   0.043613  0.016848 -0.001104  0.040856 -0.022552  0.021854\n",
       "14   0.018190 -0.018612  0.044209  0.050281  0.005872  0.006911\n",
       "15  -0.015641  0.021155  0.023176 -0.001303 -0.015469 -0.005031\n",
       "16   0.017962 -0.012856  0.018693 -0.043286 -0.004648 -0.020215\n",
       "17  -0.037471 -0.006456  0.039798 -0.028165  0.058545 -0.001180\n",
       "18   0.012735  0.016211  0.023611  0.022922  0.026443 -0.019587\n",
       "19   0.017720  0.036244  0.015227 -0.013192 -0.015845 -0.030273\n",
       "20  -0.020605 -0.002963  0.032793  0.024985  0.011650  0.026613\n",
       "21  -0.026939  0.017782 -0.012173 -0.021906 -0.011511  0.004157\n",
       "22  -0.015597  0.035388 -0.035328  0.074601  0.042899  0.066708\n",
       "23   0.018784 -0.135921  0.072861  0.006954  0.249603 -0.105826\n",
       "24   0.025196  0.013046  0.033249  0.034207  0.069374 -0.005973\n",
       "25   0.000105 -0.001052  0.027497  0.024158 -0.025580  0.028022\n",
       "26  -0.020398  0.023121 -0.004986 -0.005790 -0.008876 -0.007362\n",
       "27  -0.017886  0.022676  0.026389  0.013389 -0.015066 -0.017651\n",
       "28   0.079315 -0.036303  0.027730 -0.046770  0.059410 -0.069144\n",
       "29  -0.020198  0.001303  0.046157  0.128717 -0.020747  0.023243\n",
       "..        ...       ...       ...       ...       ...       ...\n",
       "410 -0.017274  0.022499  0.017879 -0.017145  0.012008  0.017969\n",
       "411 -0.029862  0.024411  0.027404 -0.041441  0.058101 -0.002624\n",
       "412  0.034554  0.039373  0.010475 -0.045052 -0.022252 -0.059956\n",
       "413 -0.001267  0.020322 -0.165704 -0.041430  0.011714 -0.012429\n",
       "414 -0.019451  0.011508 -0.039609 -0.021849 -0.018614  0.008301\n",
       "415  0.000358  0.001021  0.013817 -0.015097  0.008568  0.009671\n",
       "416  0.001301 -0.049311  0.015535 -0.026153 -0.006674  0.052530\n",
       "417  0.019699  0.016363  0.019341 -0.025949 -0.005673 -0.027027\n",
       "418  0.059895  0.018849  0.012740 -0.043747 -0.012533 -0.034289\n",
       "419 -0.035411 -0.009635  0.027886 -0.007857  0.005553  0.030598\n",
       "420  0.026808  0.021740  0.024661 -0.022141  0.001187  0.043046\n",
       "421  0.008179  0.013889  0.027981  0.022527  0.003644  0.004314\n",
       "422 -0.011594  0.023017  0.036855  0.061331 -0.007669 -0.000546\n",
       "423 -0.015076 -0.001545  0.023790  0.026120 -0.014764  0.006930\n",
       "424  0.037407  0.043292  0.017675  0.022738 -0.025443 -0.042545\n",
       "425 -0.022247  0.018342 -0.133169 -0.011016  0.003164  0.012921\n",
       "426  0.033234 -0.003224 -0.000819  0.001341  0.002727 -0.018620\n",
       "427 -0.023342 -0.114071 -0.117549  0.054409 -0.022744 -0.044926\n",
       "428 -0.017061 -0.018511 -0.003933 -0.036487 -0.017256 -0.032680\n",
       "429 -0.020511  0.029113  0.037932 -0.012059  0.022726 -0.017593\n",
       "430  0.066171  0.078274  0.015276 -0.045253  0.009044 -0.172666\n",
       "431 -0.013050 -0.004025 -0.117943 -0.021898 -0.003514  0.005338\n",
       "432 -0.007779  0.022970  0.033362  0.042129 -0.020316 -0.003091\n",
       "433 -0.037643 -0.003092  0.011224 -0.037549  0.006432  0.005164\n",
       "434  0.006281  0.014699  0.025994  0.021539 -0.012855 -0.016377\n",
       "435  0.058210  0.000042 -0.099663  0.045271 -0.007330 -0.161524\n",
       "436 -0.032087  0.011501  0.015808  0.109288  0.007389  0.030412\n",
       "437  0.111630 -0.005597  0.024209  0.014123 -0.002809  0.051153\n",
       "438 -0.029390  0.016523  0.027204 -0.004687  0.015503 -0.000304\n",
       "439 -0.025832  0.008384  0.019107 -0.031119 -0.018554 -0.009465\n",
       "\n",
       "[440 rows x 6 columns]"
      ]
     },
     "execution_count": 195,
     "metadata": {},
     "output_type": "execute_result"
    }
   ],
   "source": [
    "pd.DataFrame(ica_transformed)"
   ]
  },
  {
   "cell_type": "markdown",
   "metadata": {},
   "source": [
    "## Independent Component 3 corresponds to \"Fresh\" Products"
   ]
  },
  {
   "cell_type": "code",
   "execution_count": 221,
   "metadata": {
    "collapsed": false
   },
   "outputs": [
    {
     "data": {
      "text/plain": [
       "<matplotlib.axes._subplots.AxesSubplot at 0x12193e810>"
      ]
     },
     "execution_count": 221,
     "metadata": {},
     "output_type": "execute_result"
    },
    {
     "data": {
      "image/png": "[encoded data removed]",
      "text/plain": [
       "<matplotlib.figure.Figure at 0x121948510>"
      ]
     },
     "metadata": {},
     "output_type": "display_data"
    }
   ],
   "source": [
    "pd.DataFrame(ica_transformed)[3].head(20).plot()"
   ]
  },
  {
   "cell_type": "code",
   "execution_count": 197,
   "metadata": {
    "collapsed": false,
    "scrolled": false
   },
   "outputs": [
    {
     "data": {
      "text/plain": [
       "<matplotlib.axes._subplots.AxesSubplot at 0x12adb5710>"
      ]
     },
     "execution_count": 197,
     "metadata": {},
     "output_type": "execute_result"
    },
    {
     "data": {
      "image/png": "[encoded data removed]",
      "text/plain": [
       "<matplotlib.figure.Figure at 0x121cb1990>"
      ]
     },
     "metadata": {},
     "output_type": "display_data"
    }
   ],
   "source": [
    "pd.DataFrame(data[['Fresh']].head(20)).plot()"
   ]
  },
  {
   "cell_type": "markdown",
   "metadata": {},
   "source": [
    "## Independent Component 0 follows the general trend of \"Grocery\" Products and \"Detergents_Paper\", and \"Milk\" Products.\n",
    "\n",
    "It makes sense that the amount of money spent on grocery products is proportional to the amount of money spent on detergents and paper, and milk products."
   ]
  },
  {
   "cell_type": "code",
   "execution_count": 228,
   "metadata": {
    "collapsed": false
   },
   "outputs": [
    {
     "data": {
      "text/plain": [
       "<matplotlib.axes._subplots.AxesSubplot at 0x12a4f9590>"
      ]
     },
     "execution_count": 228,
     "metadata": {},
     "output_type": "execute_result"
    },
    {
     "data": {
      "image/png": "[encoded data removed]",
      "text/plain": [
       "<matplotlib.figure.Figure at 0x12a4d5ad0>"
      ]
     },
     "metadata": {},
     "output_type": "display_data"
    }
   ],
   "source": [
    "pd.DataFrame(ica_transformed)[0].head(20).plot()"
   ]
  },
  {
   "cell_type": "code",
   "execution_count": 199,
   "metadata": {
    "collapsed": false
   },
   "outputs": [
    {
     "data": {
      "text/plain": [
       "<matplotlib.axes._subplots.AxesSubplot at 0x12af38490>"
      ]
     },
     "execution_count": 199,
     "metadata": {},
     "output_type": "execute_result"
    },
    {
     "data": {
      "image/png": "[encoded data removed]",
      "text/plain": [
       "<matplotlib.figure.Figure at 0x12af2f5d0>"
      ]
     },
     "metadata": {},
     "output_type": "display_data"
    }
   ],
   "source": [
    "pd.DataFrame(data[['Grocery']].head(20)).plot()"
   ]
  },
  {
   "cell_type": "code",
   "execution_count": 200,
   "metadata": {
    "collapsed": false
   },
   "outputs": [
    {
     "data": {
      "text/plain": [
       "<matplotlib.axes._subplots.AxesSubplot at 0x11c1d79d0>"
      ]
     },
     "execution_count": 200,
     "metadata": {},
     "output_type": "execute_result"
    },
    {
     "data": {
      "image/png": "[encoded data removed]",
      "text/plain": [
       "<matplotlib.figure.Figure at 0x11bd08890>"
      ]
     },
     "metadata": {},
     "output_type": "display_data"
    }
   ],
   "source": [
    "pd.DataFrame(data[['Detergents_Paper']].head(20)).plot()"
   ]
  },
  {
   "cell_type": "code",
   "execution_count": 206,
   "metadata": {
    "collapsed": false
   },
   "outputs": [
    {
     "data": {
      "text/plain": [
       "<matplotlib.axes._subplots.AxesSubplot at 0x11a6520d0>"
      ]
     },
     "execution_count": 206,
     "metadata": {},
     "output_type": "execute_result"
    },
    {
     "data": {
      "image/png": "[encoded data removed]",
      "text/plain": [
       "<matplotlib.figure.Figure at 0x11a6640d0>"
      ]
     },
     "metadata": {},
     "output_type": "display_data"
    }
   ],
   "source": [
    "pd.DataFrame(data[['Milk']].head(20)).plot()"
   ]
  },
  {
   "cell_type": "markdown",
   "metadata": {},
   "source": [
    "## Independent Component 4 follows the general trend of \"Delicatessen\" products."
   ]
  },
  {
   "cell_type": "code",
   "execution_count": 232,
   "metadata": {
    "collapsed": false
   },
   "outputs": [
    {
     "data": {
      "text/plain": [
       "<matplotlib.axes._subplots.AxesSubplot at 0x12a848390>"
      ]
     },
     "execution_count": 232,
     "metadata": {},
     "output_type": "execute_result"
    },
    {
     "data": {
      "image/png": "[encoded data removed]",
      "text/plain": [
       "<matplotlib.figure.Figure at 0x12a852750>"
      ]
     },
     "metadata": {},
     "output_type": "display_data"
    }
   ],
   "source": [
    "pd.DataFrame(ica_transformed)[4].head(20).plot()"
   ]
  },
  {
   "cell_type": "code",
   "execution_count": 202,
   "metadata": {
    "collapsed": false
   },
   "outputs": [
    {
     "data": {
      "text/plain": [
       "<matplotlib.axes._subplots.AxesSubplot at 0x11d3749d0>"
      ]
     },
     "execution_count": 202,
     "metadata": {},
     "output_type": "execute_result"
    },
    {
     "data": {
      "image/png": "[encoded data removed]",
      "text/plain": [
       "<matplotlib.figure.Figure at 0x11be02f10>"
      ]
     },
     "metadata": {},
     "output_type": "display_data"
    }
   ],
   "source": [
    "pd.DataFrame(data[['Delicatessen']].head(20)).plot()"
   ]
  },
  {
   "cell_type": "markdown",
   "metadata": {},
   "source": [
    "## Not sure about the rest..."
   ]
  },
  {
   "cell_type": "code",
   "execution_count": 203,
   "metadata": {
    "collapsed": false
   },
   "outputs": [
    {
     "data": {
      "text/plain": [
       "<matplotlib.axes._subplots.AxesSubplot at 0x11c0af0d0>"
      ]
     },
     "execution_count": 203,
     "metadata": {},
     "output_type": "execute_result"
    },
    {
     "data": {
      "image/png": "[encoded data removed]",
      "text/plain": [
       "<matplotlib.figure.Figure at 0x11d2cc710>"
      ]
     },
     "metadata": {},
     "output_type": "display_data"
    }
   ],
   "source": [
    "pd.DataFrame(data[['Frozen']].head(20)).plot()"
   ]
  },
  {
   "cell_type": "code",
   "execution_count": 235,
   "metadata": {
    "collapsed": false
   },
   "outputs": [
    {
     "data": {
      "text/plain": [
       "<matplotlib.axes._subplots.AxesSubplot at 0x11bf12050>"
      ]
     },
     "execution_count": 235,
     "metadata": {},
     "output_type": "execute_result"
    },
    {
     "data": {
      "image/png": "[encoded data removed]",
      "text/plain": [
       "<matplotlib.figure.Figure at 0x11a8c0b10>"
      ]
     },
     "metadata": {},
     "output_type": "display_data"
    }
   ],
   "source": [
    "pd.DataFrame(ica_transformed)[5].head(20).plot()"
   ]
  },
  {
   "cell_type": "code",
   "execution_count": 205,
   "metadata": {
    "collapsed": false
   },
   "outputs": [
    {
     "data": {
      "text/plain": [
       "<matplotlib.axes._subplots.AxesSubplot at 0x11a4d1d10>"
      ]
     },
     "execution_count": 205,
     "metadata": {},
     "output_type": "execute_result"
    },
    {
     "data": {
      "image/png": "[encoded data removed]",
      "text/plain": [
       "<matplotlib.figure.Figure at 0x11a4e51d0>"
      ]
     },
     "metadata": {},
     "output_type": "display_data"
    }
   ],
   "source": [
    "pd.DataFrame(ica_transformed)[1].head(20).plot()"
   ]
  },
  {
   "cell_type": "code",
   "execution_count": 236,
   "metadata": {
    "collapsed": false
   },
   "outputs": [
    {
     "data": {
      "text/plain": [
       "<matplotlib.axes._subplots.AxesSubplot at 0x11c13efd0>"
      ]
     },
     "execution_count": 236,
     "metadata": {},
     "output_type": "execute_result"
    },
    {
     "data": {
      "image/png": "[encoded data removed]",
      "text/plain": [
       "<matplotlib.figure.Figure at 0x11be9fb50>"
      ]
     },
     "metadata": {},
     "output_type": "display_data"
    }
   ],
   "source": [
    "pd.DataFrame(ica_transformed)[2].head(20).plot()"
   ]
  },
  {
   "cell_type": "markdown",
   "metadata": {},
   "source": [
    "**4)** For each vector in the ICA decomposition, write a sentence or two explaining what sort of object or property it corresponds to. What could these components be used for?"
   ]
  },
  {
   "cell_type": "markdown",
   "metadata": {
    "collapsed": true
   },
   "source": [
    "Answer: \n",
    "\n",
    "Each vector in the ICA decomposition is an independent component. ICA maps the data for each customer into new a new basis, where data in the new vectors are statistically independent from one another. ICA is usually used for separating superimposed signals (see http://scikit-learn.org/stable/modules/decomposition.html#ica).\n",
    "\n",
    "The 3rd independent component seems to correspond to the \"fresh\" products. The 0th independent component seems to follow the general trends of \"grocery\" and \"detergents_paper\" products, and to alesser extent, follows the \"milk\" products. The 4th independent component seems to be related to \"delicatessen.\" The rest of the independent components are harder to understand and they seem to not be as straightforward.\n",
    "\n",
    "I suppose we could use these components as a way of representing data to be less noisy, since ICA projects the original data onto a vector space where vectors are statistically independent of each other."
   ]
  },
  {
   "cell_type": "markdown",
   "metadata": {},
   "source": [
    "##Clustering\n",
    "\n",
    "In this section you will choose either K Means clustering or Gaussian Mixed Models clustering, which implements expectation-maximization. Then you will sample elements from the clusters to understand their significance."
   ]
  },
  {
   "cell_type": "markdown",
   "metadata": {},
   "source": [
    "###Choose a Cluster Type\n",
    "\n",
    "**5)** What are the advantages of using K Means clustering or Gaussian Mixture Models?"
   ]
  },
  {
   "cell_type": "markdown",
   "metadata": {},
   "source": [
    "Answer: \n",
    "\n",
    "The advantage of K Means Clustering is that it is relatively simple to understand. Once we select a number of clusters (k), the centroids are randomly placed on the feature space and are then iteratively \"pulled by rubber bands\" toward clumps of points. After several iterations, the centroids have hopefully stabilized on global minima (sometimes they don't), and points in the feature space are assigned to the centroid that is closest to them.\n",
    "\n",
    "The advantage of Gaussian Mixture Models is that their goals are similar to K Means, but they also take into account covariance structure in the data (see http://scikit-learn.org/stable/modules/mixture.html). Another advantage of Gaussian Mixture Models is that they do soft assignment (i.e. assign a probability to the class of the point of interest) instead classifying the point of interest as to belonging to only one class.  This is nice because it reflects the uncertainty in classifying points that are right in between the decision boundaries, unlike K Means."
   ]
  },
  {
   "cell_type": "markdown",
   "metadata": {},
   "source": [
    "**6)** Below is some starter code to help you visualize some cluster data. The visualization is based on [this demo](http://scikit-learn.org/stable/auto_examples/cluster/plot_kmeans_digits.html) from the sklearn documentation."
   ]
  },
  {
   "cell_type": "code",
   "execution_count": 208,
   "metadata": {
    "collapsed": true
   },
   "outputs": [],
   "source": [
    "# Import clustering modules\n",
    "from sklearn.cluster import KMeans\n",
    "from sklearn.mixture import GMM"
   ]
  },
  {
   "cell_type": "code",
   "execution_count": 209,
   "metadata": {
    "collapsed": false
   },
   "outputs": [
    {
     "name": "stdout",
     "output_type": "stream",
     "text": [
      "[[  -650.02212207   1585.51909007]\n",
      " [  4426.80497937   4042.45150884]\n",
      " [  4841.9987068    2578.762176  ]\n",
      " [  -990.34643689  -6279.80599663]\n",
      " [-10657.99873116  -2159.72581518]\n",
      " [  2765.96159271   -959.87072713]\n",
      " [   715.55089221  -2013.00226567]\n",
      " [  4474.58366697   1429.49697204]\n",
      " [  6712.09539718  -2205.90915598]\n",
      " [  4823.63435407  13480.55920489]]\n"
     ]
    }
   ],
   "source": [
    "# TODO: First we reduce the data to two dimensions using PCA to capture variation\n",
    "reduced_data = pca.transform(data)\n",
    "print reduced_data[:10]  # print upto 10 elements"
   ]
  },
  {
   "cell_type": "code",
   "execution_count": 210,
   "metadata": {
    "collapsed": false
   },
   "outputs": [],
   "source": [
    "# TODO: Implement your clustering algorithm here, and fit it to the reduced data for visualization\n",
    "# The visualizer below assumes your clustering object is named 'clusters'\n",
    "\n",
    "def cluster(clusterer):\n",
    "    clusterer.fit(reduced_data)\n",
    "    clusters = clusterer\n",
    "    print clusters\n",
    "    return clusters"
   ]
  },
  {
   "cell_type": "code",
   "execution_count": 211,
   "metadata": {
    "collapsed": false
   },
   "outputs": [],
   "source": [
    "# Plot the decision boundary by building a mesh grid to populate a graph.\n",
    "\n",
    "def plot_boundary(clusters):\n",
    "    x_min, x_max = reduced_data[:, 0].min() - 1, reduced_data[:, 0].max() + 1\n",
    "    y_min, y_max = reduced_data[:, 1].min() - 1, reduced_data[:, 1].max() + 1\n",
    "    hx = (x_max-x_min)/1000.\n",
    "    hy = (y_max-y_min)/1000.\n",
    "    xx, yy = np.meshgrid(np.arange(x_min, x_max, hx), np.arange(y_min, y_max, hy))\n",
    "\n",
    "    # Obtain labels for each point in mesh. Use last trained model.\n",
    "    Z = clusters.predict(np.c_[xx.ravel(), yy.ravel()])\n",
    "    return Z,xx,yy,x_min,x_max,y_min,y_max"
   ]
  },
  {
   "cell_type": "code",
   "execution_count": 212,
   "metadata": {
    "collapsed": false
   },
   "outputs": [],
   "source": [
    "# TODO: Find the centroids for KMeans or the cluster means for GMM \n",
    "\n",
    "def cluster_means(clusters, func_name):\n",
    "    centroids = getattr(clusters, func_name)\n",
    "    print centroids\n",
    "    return centroids"
   ]
  },
  {
   "cell_type": "code",
   "execution_count": 213,
   "metadata": {
    "collapsed": false
   },
   "outputs": [],
   "source": [
    "# Put the result into a color plot\n",
    "def color_plot(clusters, Z,xx,yy,x_min,x_max,y_min,y_max,centroids):\n",
    "    Z = Z.reshape(xx.shape)\n",
    "    plt.figure(1)\n",
    "    plt.clf()\n",
    "    plt.imshow(Z, interpolation='nearest',\n",
    "               extent=(xx.min(), xx.max(), yy.min(), yy.max()),\n",
    "               cmap=plt.cm.Paired,\n",
    "               aspect='auto', origin='lower')\n",
    "\n",
    "    plt.plot(reduced_data[:, 0], reduced_data[:, 1], 'k.', markersize=2)\n",
    "    plt.scatter(centroids[:, 0], centroids[:, 1],\n",
    "                marker='x', s=169, linewidths=3,\n",
    "                color='w', zorder=10)\n",
    "    plt.title('Clustering on the wholesale grocery dataset (PCA-reduced data)\\n'\n",
    "              'Centroids are marked with white cross')\n",
    "    plt.xlim(x_min, x_max)\n",
    "    plt.ylim(y_min, y_max)\n",
    "    plt.xticks(())\n",
    "    plt.yticks(())\n",
    "    plt.show()"
   ]
  },
  {
   "cell_type": "code",
   "execution_count": 214,
   "metadata": {
    "collapsed": false
   },
   "outputs": [],
   "source": [
    "def cluster_and_plot(clusterer,func_name):\n",
    "    clusters = cluster(clusterer)\n",
    "    Z,xx,yy,x_min,x_max,y_min,y_max = plot_boundary(clusters)\n",
    "    centroids = cluster_means(clusters,func_name)\n",
    "    color_plot(clusters,Z,xx,yy,x_min,x_max,y_min,y_max,centroids)"
   ]
  },
  {
   "cell_type": "code",
   "execution_count": 215,
   "metadata": {
    "collapsed": false
   },
   "outputs": [
    {
     "name": "stdout",
     "output_type": "stream",
     "text": [
      "GMM(covariance_type='diag', init_params='wmc', min_covar=0.001,\n",
      "  n_components=2, n_init=1, n_iter=100, params='wmc', random_state=None,\n",
      "  thresh=None, tol=0.001)\n",
      "[[-10810.23008886   9858.15532401]\n",
      " [  3308.39301792  -3017.01739698]]\n"
     ]
    },
    {
     "data": {
      "image/png": "[encoded data removed]",
      "text/plain": [
       "<matplotlib.figure.Figure at 0x11a5a0b50>"
      ]
     },
     "metadata": {},
     "output_type": "display_data"
    }
   ],
   "source": [
    "clusterer = GMM(n_components=2)\n",
    "cluster_and_plot(clusterer, 'means_')"
   ]
  },
  {
   "cell_type": "code",
   "execution_count": 216,
   "metadata": {
    "collapsed": false
   },
   "outputs": [
    {
     "name": "stdout",
     "output_type": "stream",
     "text": [
      "KMeans(copy_x=True, init='k-means++', max_iter=300, n_clusters=2, n_init=10,\n",
      "    n_jobs=1, precompute_distances='auto', random_state=None, tol=0.0001,\n",
      "    verbose=0)\n",
      "[[  4175.31101293   -211.15109304]\n",
      " [-24088.33276689   1218.17938291]]\n"
     ]
    },
    {
     "data": {
      "image/png": "[encoded data removed]",
      "text/plain": [
       "<matplotlib.figure.Figure at 0x11a34e490>"
      ]
     },
     "metadata": {},
     "output_type": "display_data"
    }
   ],
   "source": [
    "clusterer = KMeans(n_clusters=2)\n",
    "cluster_and_plot(clusterer, 'cluster_centers_')"
   ]
  },
  {
   "cell_type": "code",
   "execution_count": 217,
   "metadata": {
    "collapsed": false
   },
   "outputs": [
    {
     "name": "stdout",
     "output_type": "stream",
     "text": [
      "GMM(covariance_type='diag', init_params='wmc', min_covar=0.001,\n",
      "  n_components=3, n_init=1, n_iter=100, params='wmc', random_state=None,\n",
      "  thresh=None, tol=0.001)\n",
      "[[-17858.6536729   10050.33930164]\n",
      " [  7007.45427668   4294.01360677]\n",
      " [   313.48539412  -6497.20521133]]\n"
     ]
    },
    {
     "data": {
      "image/png": "[encoded data removed]",
      "text/plain": [
       "<matplotlib.figure.Figure at 0x11a8d4150>"
      ]
     },
     "metadata": {},
     "output_type": "display_data"
    }
   ],
   "source": [
    "clusterer = GMM(n_components=3)\n",
    "cluster_and_plot(clusterer, 'means_')"
   ]
  },
  {
   "cell_type": "code",
   "execution_count": 218,
   "metadata": {
    "collapsed": false
   },
   "outputs": [
    {
     "name": "stdout",
     "output_type": "stream",
     "text": [
      "KMeans(copy_x=True, init='k-means++', max_iter=300, n_clusters=3, n_init=10,\n",
      "    n_jobs=1, precompute_distances='auto', random_state=None, tol=0.0001,\n",
      "    verbose=0)\n",
      "[[  4165.1217824   -3105.15811456]\n",
      " [-23978.86566553  -4445.56611772]\n",
      " [  1341.31124554  25261.39189714]]\n"
     ]
    },
    {
     "data": {
      "image/png": "[encoded data removed]",
      "text/plain": [
       "<matplotlib.figure.Figure at 0x121413fd0>"
      ]
     },
     "metadata": {},
     "output_type": "display_data"
    }
   ],
   "source": [
    "clusterer = KMeans(n_clusters=3)\n",
    "cluster_and_plot(clusterer, 'cluster_centers_')"
   ]
  },
  {
   "cell_type": "markdown",
   "metadata": {},
   "source": [
    "**7)** What are the central objects in each cluster? Describe them as customers."
   ]
  },
  {
   "cell_type": "markdown",
   "metadata": {
    "collapsed": true
   },
   "source": [
    "Answer: \n",
    "\n",
    "Central objects in each cluster represent the centroids. In terms of customers, since they are \"smack dab in the middle\" of each cluster, they seem to represent the \"average\" customer in that grouping."
   ]
  },
  {
   "cell_type": "markdown",
   "metadata": {},
   "source": [
    "###Conclusions\n",
    "\n",
    "** 8)** Which of these techniques did you feel gave you the most insight into the data?"
   ]
  },
  {
   "cell_type": "markdown",
   "metadata": {
    "collapsed": true
   },
   "source": [
    "Answer: \n",
    "\n",
    "I felt that the best techniques to use were to use PCA to summarize the data into two principal components that roughly correspond with \"fresh\" and \"grocery\" products respectively. After doing PCA, using Gaussian Mixture Models with 2 or 3 components made sense. With 2 GMM components, I could quickly see that one component captures some sort of \"oval\" clump, while the other captures everything that's not in the oval clump. Perhaps, these 2 clusters correspond to \"big\" and \"small\" businesses.  With 3 GMM components, the rough oval shape became divided into two smaller ovals, while the 3rd component captured everything outside the two ovals. \n",
    "\n",
    "In the 3-component clusters using GMM, we can identify 3 groups: one of customers that order lots of fresh products, another of customers that order lots of fresh products AND grocery items, and lastly, one of customers that don't belong in those two groups. My hypothesis is that unhappy customers probably belong to the cluster of customers that predominantly order only fresh products. Since the delivery schedule has changed from morning to evening, and now that it's in bulk, those customers are probably most affected. The products in the \"fresh\" category are probably not as \"fresh\" as they used to be. Assuming that they have regular hours of operation (i.e. they have more hours open during the day than during night), this means that the fresh products get stored at night, and probably have to wait till the next day to get bought.  Also, \"bulk\" deliveries probably means we are not delivering to them as frequently. This further supports the idea that the \"fresh\" products are likely to become more stale because of the new changes.  I would test this idea out, again, by figuring out how concentrated or spread out the unhappy customers are in the clusters."
   ]
  },
  {
   "cell_type": "markdown",
   "metadata": {
    "collapsed": true
   },
   "source": [
    "**9)** How would you use that technique to help the company design new experiments?"
   ]
  },
  {
   "cell_type": "markdown",
   "metadata": {},
   "source": [
    "Answer: \n",
    "\n",
    "Now that we have some clusters, and given the information that some companies have complaints about the new change, I would try to project the customers that we know have issues with the new change onto the first two principal components as we've done above, and then figure out which cluster they belong. An interesting experiment would be to figure out if these unhappy customers are overwhelmingly concentrated in one cluster.  For example, in the case of three GMM clusters, a null hypothesis could be that customers who have problems should be evenly distributed throughout the three clusters. Once we have gathered enough complaints, we could map each of those customers onto the new projection and test our hypothesis. If we can safely reject the null hypothesis (i.e. unhappy customers overwhelmingly are concentrated in one cluster), we could then reach out to the other customers who belong to that cluster, pay more attention to their needs and maybe give them special offers so that they keep doing business with us (such as restoring the daily morning deliveries)."
   ]
  },
  {
   "cell_type": "markdown",
   "metadata": {},
   "source": [
    "**10)** How would you use that data to help you predict future customer needs?"
   ]
  },
  {
   "cell_type": "markdown",
   "metadata": {},
   "source": [
    "Answer: \n",
    "\n",
    "After the A/B test, if we got to the point of successfully identifying the cluster that most of the unhappy customers belong to, it's probably likely for those people in that cluster to prefer the old method of delivery. We predict that those customers in that cluster probably like more frequent, morning deliveries. In other words, we could assign them labels based on which cluster they belong to. After that, we could treat this as a supervised learning problem."
   ]
  },
  {
   "cell_type": "code",
   "execution_count": null,
   "metadata": {
    "collapsed": true
   },
   "outputs": [],
   "source": []
  }
 ],
 "metadata": {
  "kernelspec": {
   "display_name": "Python 2",
   "language": "python",
   "name": "python2"
  },
  "language_info": {
   "codemirror_mode": {
    "name": "ipython",
    "version": 2
   },
   "file_extension": ".py",
   "mimetype": "text/x-python",
   "name": "python",
   "nbconvert_exporter": "python",
   "pygments_lexer": "ipython2",
   "version": "2.7.9"
  }
 },
 "nbformat": 4,
 "nbformat_minor": 0
}
