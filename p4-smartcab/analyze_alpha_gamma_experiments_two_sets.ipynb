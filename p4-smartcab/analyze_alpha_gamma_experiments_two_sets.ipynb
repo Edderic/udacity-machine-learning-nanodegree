{
 "cells": [
  {
   "cell_type": "code",
   "execution_count": 3,
   "metadata": {
    "collapsed": true
   },
   "outputs": [],
   "source": [
    "import pandas\n",
    "import numpy\n",
    "import random"
   ]
  },
  {
   "cell_type": "code",
   "execution_count": 4,
   "metadata": {
    "collapsed": false
   },
   "outputs": [
    {
     "data": {
      "text/html": [
       "<div>\n",
       "<table border=\"1\" class=\"dataframe\">\n",
       "  <thead>\n",
       "    <tr style=\"text-align: right;\">\n",
       "      <th></th>\n",
       "      <th>alpha</th>\n",
       "      <th>gamma</th>\n",
       "      <th>rewards_per_action</th>\n",
       "    </tr>\n",
       "  </thead>\n",
       "  <tbody>\n",
       "    <tr>\n",
       "      <th>0</th>\n",
       "      <td>0.9</td>\n",
       "      <td>0.3</td>\n",
       "      <td>0.461435</td>\n",
       "    </tr>\n",
       "    <tr>\n",
       "      <th>1</th>\n",
       "      <td>0.9</td>\n",
       "      <td>0.3</td>\n",
       "      <td>0.451306</td>\n",
       "    </tr>\n",
       "    <tr>\n",
       "      <th>2</th>\n",
       "      <td>0.9</td>\n",
       "      <td>0.3</td>\n",
       "      <td>0.429459</td>\n",
       "    </tr>\n",
       "    <tr>\n",
       "      <th>3</th>\n",
       "      <td>0.9</td>\n",
       "      <td>0.3</td>\n",
       "      <td>0.438609</td>\n",
       "    </tr>\n",
       "    <tr>\n",
       "      <th>4</th>\n",
       "      <td>0.9</td>\n",
       "      <td>0.3</td>\n",
       "      <td>0.439223</td>\n",
       "    </tr>\n",
       "    <tr>\n",
       "      <th>5</th>\n",
       "      <td>0.9</td>\n",
       "      <td>0.3</td>\n",
       "      <td>0.437100</td>\n",
       "    </tr>\n",
       "    <tr>\n",
       "      <th>6</th>\n",
       "      <td>0.9</td>\n",
       "      <td>0.3</td>\n",
       "      <td>0.444560</td>\n",
       "    </tr>\n",
       "    <tr>\n",
       "      <th>7</th>\n",
       "      <td>0.9</td>\n",
       "      <td>0.3</td>\n",
       "      <td>0.452696</td>\n",
       "    </tr>\n",
       "    <tr>\n",
       "      <th>8</th>\n",
       "      <td>0.9</td>\n",
       "      <td>0.3</td>\n",
       "      <td>0.470704</td>\n",
       "    </tr>\n",
       "    <tr>\n",
       "      <th>9</th>\n",
       "      <td>0.9</td>\n",
       "      <td>0.3</td>\n",
       "      <td>0.442216</td>\n",
       "    </tr>\n",
       "    <tr>\n",
       "      <th>10</th>\n",
       "      <td>0.9</td>\n",
       "      <td>0.3</td>\n",
       "      <td>0.437719</td>\n",
       "    </tr>\n",
       "    <tr>\n",
       "      <th>11</th>\n",
       "      <td>0.9</td>\n",
       "      <td>0.3</td>\n",
       "      <td>0.442267</td>\n",
       "    </tr>\n",
       "    <tr>\n",
       "      <th>12</th>\n",
       "      <td>0.9</td>\n",
       "      <td>0.3</td>\n",
       "      <td>0.447249</td>\n",
       "    </tr>\n",
       "    <tr>\n",
       "      <th>13</th>\n",
       "      <td>0.9</td>\n",
       "      <td>0.3</td>\n",
       "      <td>0.441105</td>\n",
       "    </tr>\n",
       "    <tr>\n",
       "      <th>14</th>\n",
       "      <td>0.9</td>\n",
       "      <td>0.3</td>\n",
       "      <td>0.448384</td>\n",
       "    </tr>\n",
       "    <tr>\n",
       "      <th>15</th>\n",
       "      <td>0.9</td>\n",
       "      <td>0.5</td>\n",
       "      <td>0.434538</td>\n",
       "    </tr>\n",
       "    <tr>\n",
       "      <th>16</th>\n",
       "      <td>0.9</td>\n",
       "      <td>0.5</td>\n",
       "      <td>0.448658</td>\n",
       "    </tr>\n",
       "    <tr>\n",
       "      <th>17</th>\n",
       "      <td>0.9</td>\n",
       "      <td>0.5</td>\n",
       "      <td>0.463374</td>\n",
       "    </tr>\n",
       "    <tr>\n",
       "      <th>18</th>\n",
       "      <td>0.9</td>\n",
       "      <td>0.5</td>\n",
       "      <td>0.437126</td>\n",
       "    </tr>\n",
       "    <tr>\n",
       "      <th>19</th>\n",
       "      <td>0.9</td>\n",
       "      <td>0.5</td>\n",
       "      <td>0.443238</td>\n",
       "    </tr>\n",
       "    <tr>\n",
       "      <th>20</th>\n",
       "      <td>0.9</td>\n",
       "      <td>0.5</td>\n",
       "      <td>0.435405</td>\n",
       "    </tr>\n",
       "    <tr>\n",
       "      <th>21</th>\n",
       "      <td>0.9</td>\n",
       "      <td>0.5</td>\n",
       "      <td>0.442060</td>\n",
       "    </tr>\n",
       "    <tr>\n",
       "      <th>22</th>\n",
       "      <td>0.9</td>\n",
       "      <td>0.5</td>\n",
       "      <td>0.436170</td>\n",
       "    </tr>\n",
       "    <tr>\n",
       "      <th>23</th>\n",
       "      <td>0.9</td>\n",
       "      <td>0.5</td>\n",
       "      <td>0.435386</td>\n",
       "    </tr>\n",
       "    <tr>\n",
       "      <th>24</th>\n",
       "      <td>0.9</td>\n",
       "      <td>0.5</td>\n",
       "      <td>0.451591</td>\n",
       "    </tr>\n",
       "    <tr>\n",
       "      <th>25</th>\n",
       "      <td>0.9</td>\n",
       "      <td>0.5</td>\n",
       "      <td>0.454698</td>\n",
       "    </tr>\n",
       "    <tr>\n",
       "      <th>26</th>\n",
       "      <td>0.9</td>\n",
       "      <td>0.5</td>\n",
       "      <td>0.445614</td>\n",
       "    </tr>\n",
       "    <tr>\n",
       "      <th>27</th>\n",
       "      <td>0.9</td>\n",
       "      <td>0.5</td>\n",
       "      <td>0.432558</td>\n",
       "    </tr>\n",
       "    <tr>\n",
       "      <th>28</th>\n",
       "      <td>0.9</td>\n",
       "      <td>0.5</td>\n",
       "      <td>0.435594</td>\n",
       "    </tr>\n",
       "    <tr>\n",
       "      <th>29</th>\n",
       "      <td>0.9</td>\n",
       "      <td>0.5</td>\n",
       "      <td>0.425357</td>\n",
       "    </tr>\n",
       "  </tbody>\n",
       "</table>\n",
       "</div>"
      ],
      "text/plain": [
       "    alpha  gamma  rewards_per_action\n",
       "0     0.9    0.3            0.461435\n",
       "1     0.9    0.3            0.451306\n",
       "2     0.9    0.3            0.429459\n",
       "3     0.9    0.3            0.438609\n",
       "4     0.9    0.3            0.439223\n",
       "5     0.9    0.3            0.437100\n",
       "6     0.9    0.3            0.444560\n",
       "7     0.9    0.3            0.452696\n",
       "8     0.9    0.3            0.470704\n",
       "9     0.9    0.3            0.442216\n",
       "10    0.9    0.3            0.437719\n",
       "11    0.9    0.3            0.442267\n",
       "12    0.9    0.3            0.447249\n",
       "13    0.9    0.3            0.441105\n",
       "14    0.9    0.3            0.448384\n",
       "15    0.9    0.5            0.434538\n",
       "16    0.9    0.5            0.448658\n",
       "17    0.9    0.5            0.463374\n",
       "18    0.9    0.5            0.437126\n",
       "19    0.9    0.5            0.443238\n",
       "20    0.9    0.5            0.435405\n",
       "21    0.9    0.5            0.442060\n",
       "22    0.9    0.5            0.436170\n",
       "23    0.9    0.5            0.435386\n",
       "24    0.9    0.5            0.451591\n",
       "25    0.9    0.5            0.454698\n",
       "26    0.9    0.5            0.445614\n",
       "27    0.9    0.5            0.432558\n",
       "28    0.9    0.5            0.435594\n",
       "29    0.9    0.5            0.425357"
      ]
     },
     "execution_count": 4,
     "metadata": {},
     "output_type": "execute_result"
    }
   ],
   "source": [
    "df = pandas.DataFrame.from_csv('alpha_gamma_experiments_two_sets_15_experiments.csv')\n",
    "df"
   ]
  },
  {
   "cell_type": "code",
   "execution_count": 5,
   "metadata": {
    "collapsed": false,
    "scrolled": true
   },
   "outputs": [
    {
     "data": {
      "text/html": [
       "<div>\n",
       "<table border=\"1\" class=\"dataframe\">\n",
       "  <thead>\n",
       "    <tr style=\"text-align: right;\">\n",
       "      <th></th>\n",
       "      <th>alpha</th>\n",
       "      <th>gamma</th>\n",
       "      <th>rewards_per_action</th>\n",
       "    </tr>\n",
       "  </thead>\n",
       "  <tbody>\n",
       "    <tr>\n",
       "      <th>15</th>\n",
       "      <td>0.9</td>\n",
       "      <td>0.5</td>\n",
       "      <td>0.434538</td>\n",
       "    </tr>\n",
       "    <tr>\n",
       "      <th>16</th>\n",
       "      <td>0.9</td>\n",
       "      <td>0.5</td>\n",
       "      <td>0.448658</td>\n",
       "    </tr>\n",
       "    <tr>\n",
       "      <th>17</th>\n",
       "      <td>0.9</td>\n",
       "      <td>0.5</td>\n",
       "      <td>0.463374</td>\n",
       "    </tr>\n",
       "    <tr>\n",
       "      <th>18</th>\n",
       "      <td>0.9</td>\n",
       "      <td>0.5</td>\n",
       "      <td>0.437126</td>\n",
       "    </tr>\n",
       "    <tr>\n",
       "      <th>19</th>\n",
       "      <td>0.9</td>\n",
       "      <td>0.5</td>\n",
       "      <td>0.443238</td>\n",
       "    </tr>\n",
       "    <tr>\n",
       "      <th>20</th>\n",
       "      <td>0.9</td>\n",
       "      <td>0.5</td>\n",
       "      <td>0.435405</td>\n",
       "    </tr>\n",
       "    <tr>\n",
       "      <th>21</th>\n",
       "      <td>0.9</td>\n",
       "      <td>0.5</td>\n",
       "      <td>0.442060</td>\n",
       "    </tr>\n",
       "    <tr>\n",
       "      <th>22</th>\n",
       "      <td>0.9</td>\n",
       "      <td>0.5</td>\n",
       "      <td>0.436170</td>\n",
       "    </tr>\n",
       "    <tr>\n",
       "      <th>23</th>\n",
       "      <td>0.9</td>\n",
       "      <td>0.5</td>\n",
       "      <td>0.435386</td>\n",
       "    </tr>\n",
       "    <tr>\n",
       "      <th>24</th>\n",
       "      <td>0.9</td>\n",
       "      <td>0.5</td>\n",
       "      <td>0.451591</td>\n",
       "    </tr>\n",
       "    <tr>\n",
       "      <th>25</th>\n",
       "      <td>0.9</td>\n",
       "      <td>0.5</td>\n",
       "      <td>0.454698</td>\n",
       "    </tr>\n",
       "    <tr>\n",
       "      <th>26</th>\n",
       "      <td>0.9</td>\n",
       "      <td>0.5</td>\n",
       "      <td>0.445614</td>\n",
       "    </tr>\n",
       "    <tr>\n",
       "      <th>27</th>\n",
       "      <td>0.9</td>\n",
       "      <td>0.5</td>\n",
       "      <td>0.432558</td>\n",
       "    </tr>\n",
       "    <tr>\n",
       "      <th>28</th>\n",
       "      <td>0.9</td>\n",
       "      <td>0.5</td>\n",
       "      <td>0.435594</td>\n",
       "    </tr>\n",
       "    <tr>\n",
       "      <th>29</th>\n",
       "      <td>0.9</td>\n",
       "      <td>0.5</td>\n",
       "      <td>0.425357</td>\n",
       "    </tr>\n",
       "  </tbody>\n",
       "</table>\n",
       "</div>"
      ],
      "text/plain": [
       "    alpha  gamma  rewards_per_action\n",
       "15    0.9    0.5            0.434538\n",
       "16    0.9    0.5            0.448658\n",
       "17    0.9    0.5            0.463374\n",
       "18    0.9    0.5            0.437126\n",
       "19    0.9    0.5            0.443238\n",
       "20    0.9    0.5            0.435405\n",
       "21    0.9    0.5            0.442060\n",
       "22    0.9    0.5            0.436170\n",
       "23    0.9    0.5            0.435386\n",
       "24    0.9    0.5            0.451591\n",
       "25    0.9    0.5            0.454698\n",
       "26    0.9    0.5            0.445614\n",
       "27    0.9    0.5            0.432558\n",
       "28    0.9    0.5            0.435594\n",
       "29    0.9    0.5            0.425357"
      ]
     },
     "execution_count": 5,
     "metadata": {},
     "output_type": "execute_result"
    }
   ],
   "source": [
    "df[df['alpha']== 0.9][df['gamma'] == 0.5]"
   ]
  },
  {
   "cell_type": "code",
   "execution_count": 6,
   "metadata": {
    "collapsed": false,
    "scrolled": true
   },
   "outputs": [],
   "source": [
    "def setting_df(alpha=0, gamma=0):\n",
    "    return df[df['alpha'] == alpha][df['gamma'] == gamma]"
   ]
  },
  {
   "cell_type": "code",
   "execution_count": 7,
   "metadata": {
    "collapsed": false,
    "scrolled": false
   },
   "outputs": [],
   "source": [
    "def avg_alp_gam(alpha=0, gamma=0):\n",
    "    return setting_df(alpha=alpha, gamma=gamma)['rewards_per_action']\n",
    "    "
   ]
  },
  {
   "cell_type": "code",
   "execution_count": 8,
   "metadata": {
    "collapsed": false,
    "scrolled": false
   },
   "outputs": [
    {
     "data": {
      "text/plain": [
       "0.44142449705166664"
      ]
     },
     "execution_count": 8,
     "metadata": {},
     "output_type": "execute_result"
    }
   ],
   "source": [
    "avg_alp_gam(alpha=0.9, gamma=0.5).mean()"
   ]
  },
  {
   "cell_type": "code",
   "execution_count": 9,
   "metadata": {
    "collapsed": false,
    "scrolled": false
   },
   "outputs": [
    {
     "data": {
      "text/plain": [
       "0.44560205024213329"
      ]
     },
     "execution_count": 9,
     "metadata": {},
     "output_type": "execute_result"
    }
   ],
   "source": [
    "avg_alp_gam(alpha=0.9, gamma=0.3).mean()"
   ]
  },
  {
   "cell_type": "markdown",
   "metadata": {
    "collapsed": false,
    "scrolled": false
   },
   "source": [
    "### Note: \n",
    "I ran `30` experiments, `1` for each combination of alpha and gamma values, where the best action taken was always the action that had the max Q value between the next_waypoint or None, considering the state of the learning agent.  I picked the settings in which the the reward per action (RPA) was highest and lowest.  I wanted to see whether or not these settings give significantly different results. Given that one run of 100 trials for alpha=`0.9`, gamma=`0.3` resulted in `2.149222` RPA and alpha=`0.9`, gamma=`0.5` in `2.446097` RPA, which is slightly higher than the latter, I expected the average of the set of rewards per action for alpha=`0.9` and gamma=`0.5` to be higher than the set for alpha=`0.9` and gamma=`0.3`, but that does not seem to be the case.  This suggests that changing the alpha and gamma values, considering the current the \"best action\" decision criteria, might be of little consequence."
   ]
  },
  {
   "cell_type": "code",
   "execution_count": 10,
   "metadata": {
    "collapsed": true
   },
   "outputs": [],
   "source": [
    "def significance_test(p=0.05):\n",
    "    group_1 = avg_alp_gam(alpha=0.9, gamma=0.5)\n",
    "    group_2 = avg_alp_gam(alpha=0.9, gamma=0.3)\n",
    "    \n",
    "    diff_mean = group_1.mean() - group_2.mean()\n",
    "    \n",
    "    group_1_size = group_1.size\n",
    "    group_2_size = group_2.size\n",
    "    \n",
    "    num_experiments = 10000\n",
    "    rewards_per_action_values = df['rewards_per_action'].values\n",
    "    \n",
    "    for i in range(num_experiments):\n",
    "        random.shuffle(rewards_per_action_values)\n",
    "        new_group_1 = rewards_per_action_values[0:group_1_size]\n",
    "        new_group_2 = rewards_per_action_values[group_1_size:]"
   ]
  },
  {
   "cell_type": "code",
   "execution_count": 11,
   "metadata": {
    "collapsed": true
   },
   "outputs": [],
   "source": [
    "def significance_test(p=0.05):\n",
    "    group_1 = avg_alp_gam(alpha=0.9, gamma=0.5)\n",
    "    group_2 = avg_alp_gam(alpha=0.9, gamma=0.3)\n",
    "    \n",
    "    diff_mean = group_1.mean() - group_2.mean()\n",
    "    \n",
    "    group_1_size = group_1.size\n",
    "    group_2_size = group_2.size\n",
    "    \n",
    "    num_experiments = 10000\n",
    "    rewards_per_action_values = df['rewards_per_action'].values\n",
    "    count_pass_test = 0\n",
    "    \n",
    "    for i in range(num_experiments):\n",
    "        random.shuffle(rewards_per_action_values)\n",
    "        new_group_1 = rewards_per_action_values[0:group_1_size]\n",
    "        new_group_2 = rewards_per_action_values[group_1_size:]\n",
    "        \n",
    "        if new_group_1.mean() - new_group_2.mean() >= diff_mean:\n",
    "            count_pass_test += 1\n",
    "            \n",
    "    result = float(count_pass_test) / num_experiments\n",
    "    \n",
    "    if result < p:\n",
    "        print \"Passed the significance level of p < {}, got {}\".format(p, result)\n",
    "    else:\n",
    "        print \"Failed to pass the significance level of p < {}, got {}\".format(p, result)"
   ]
  },
  {
   "cell_type": "code",
   "execution_count": 12,
   "metadata": {
    "collapsed": false
   },
   "outputs": [
    {
     "name": "stdout",
     "output_type": "stream",
     "text": [
      "Failed to pass the significance level of p < 0.05, got 0.8633\n"
     ]
    }
   ],
   "source": [
    "# Running this significance test several times shows a consistency of rejecting the null (i.e. changing alpha and gamma values does not affect reward_per_action scores)\n",
    "significance_test()"
   ]
  },
  {
   "cell_type": "code",
   "execution_count": 13,
   "metadata": {
    "collapsed": false,
    "scrolled": true
   },
   "outputs": [
    {
     "name": "stdout",
     "output_type": "stream",
     "text": [
      "Failed to pass the significance level of p < 0.05, got 0.5928\n"
     ]
    }
   ],
   "source": [
    "# Running this significance test several times shows a consistency of rejecting the null (i.e. changing alpha and gamma values does not affect reward_per_action scores)\n",
    "significance_test()"
   ]
  },
  {
   "cell_type": "code",
   "execution_count": 14,
   "metadata": {
    "collapsed": false
   },
   "outputs": [
    {
     "name": "stdout",
     "output_type": "stream",
     "text": [
      "Passed the significance level of p < 0.05, got 0.0468\n"
     ]
    }
   ],
   "source": [
    "# Running this significance test several times shows a consistency of rejecting the null (i.e. changing alpha and gamma values does not affect reward_per_action scores)\n",
    "significance_test()"
   ]
  },
  {
   "cell_type": "code",
   "execution_count": 15,
   "metadata": {
    "collapsed": false
   },
   "outputs": [
    {
     "name": "stdout",
     "output_type": "stream",
     "text": [
      "Failed to pass the significance level of p < 0.05, got 0.5009\n"
     ]
    }
   ],
   "source": [
    "# Running this significance test several times shows a consistency of rejecting the null (i.e. changing alpha and gamma values does not affect reward_per_action scores)\n",
    "significance_test()"
   ]
  },
  {
   "cell_type": "code",
   "execution_count": 17,
   "metadata": {
    "collapsed": false
   },
   "outputs": [
    {
     "data": {
      "text/plain": [
       "0     0.461435\n",
       "1     0.451306\n",
       "2     0.429459\n",
       "3     0.438609\n",
       "4     0.439223\n",
       "5     0.437100\n",
       "6     0.444560\n",
       "7     0.452696\n",
       "8     0.470704\n",
       "9     0.442216\n",
       "10    0.437719\n",
       "11    0.442267\n",
       "12    0.447249\n",
       "13    0.441105\n",
       "14    0.448384\n",
       "15    0.434538\n",
       "16    0.448658\n",
       "17    0.463374\n",
       "18    0.437126\n",
       "19    0.443238\n",
       "20    0.435405\n",
       "21    0.442060\n",
       "22    0.436170\n",
       "23    0.435386\n",
       "24    0.451591\n",
       "25    0.454698\n",
       "26    0.445614\n",
       "27    0.432558\n",
       "28    0.435594\n",
       "29    0.425357\n",
       "Name: rewards_per_action, dtype: float64"
      ]
     },
     "execution_count": 17,
     "metadata": {},
     "output_type": "execute_result"
    }
   ],
   "source": [
    "df['rewards_per_action']"
   ]
  },
  {
   "cell_type": "code",
   "execution_count": null,
   "metadata": {
    "collapsed": true
   },
   "outputs": [],
   "source": []
  }
 ],
 "metadata": {
  "kernelspec": {
   "display_name": "Python 2",
   "language": "python",
   "name": "python2"
  },
  "language_info": {
   "codemirror_mode": {
    "name": "ipython",
    "version": 2
   },
   "file_extension": ".py",
   "mimetype": "text/x-python",
   "name": "python",
   "nbconvert_exporter": "python",
   "pygments_lexer": "ipython2",
   "version": "2.7.11"
  }
 },
 "nbformat": 4,
 "nbformat_minor": 0
}
